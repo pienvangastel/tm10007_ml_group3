{
 "cells": [
  {
   "cell_type": "markdown",
   "metadata": {
    "colab_type": "text",
    "id": "7SXpaKwwGe5x"
   },
   "source": [
    "# TM10007 Assignment template -- ECG data"
   ]
  },
  {
   "cell_type": "markdown",
   "metadata": {},
   "source": [
    "## Data loading and cleaning\n",
    "\n",
    "Below are functions to load the dataset of your choice. After that, it is all up to you to create and evaluate a classification method. Beware, there may be missing values in these datasets. Good luck!"
   ]
  },
  {
   "cell_type": "markdown",
   "metadata": {},
   "source": [
    "### Load features and labels into dataframe from csv file "
   ]
  },
  {
   "cell_type": "code",
   "execution_count": 2,
   "metadata": {
    "colab": {
     "base_uri": "https://localhost:8080/",
     "height": 69
    },
    "colab_type": "code",
    "id": "CiDn2Sk-VWqE",
    "outputId": "64224cd2-6054-4b04-a3f6-af8290400dfc"
   },
   "outputs": [
    {
     "name": "stdout",
     "output_type": "stream",
     "text": [
      "The number of samples: 827\n",
      "The number of columns: 9001\n"
     ]
    }
   ],
   "source": [
    "import zipfile\n",
    "import os\n",
    "import pandas as pd\n",
    "\n",
    "with zipfile.ZipFile('./ecg/ecg_data.zip', 'r') as zip_ref:\n",
    "    zip_ref.extractall('./ecg/')\n",
    "\n",
    "data = pd.read_csv('./ecg/ecg_data.csv', index_col=0)\n",
    "\n",
    "file = './ecg/ecg_data.csv'\n",
    "if(os.path.exists(file) and os.path.isfile(file)):\n",
    "  os.remove(file)\n",
    "\n",
    "print(f'The number of samples: {len(data.index)}')\n",
    "print(f'The number of columns: {len(data.columns)}')"
   ]
  },
  {
   "cell_type": "markdown",
   "metadata": {},
   "source": [
    "### Create test-train split"
   ]
  },
  {
   "cell_type": "code",
   "execution_count": 3,
   "metadata": {},
   "outputs": [],
   "source": [
    "from sklearn.model_selection import train_test_split\n",
    "\n",
    "y = data.label\n",
    "X = data.drop('label', axis=1)\n",
    "\n",
    "# Need to find logical nubmers for test_size and random_state and add this in the report. \n",
    "X_train, X_test, y_train, y_test = train_test_split(\n",
    "    X, y, test_size=0.3, random_state=42)"
   ]
  },
  {
   "cell_type": "markdown",
   "metadata": {},
   "source": [
    "### Preprocessing"
   ]
  },
  {
   "cell_type": "code",
   "execution_count": 4,
   "metadata": {},
   "outputs": [],
   "source": [
    "from sklearn.pipeline import Pipeline, FeatureUnion\n",
    "from sklearn.preprocessing import StandardScaler, MinMaxScaler, Normalizer\n",
    "from sklearn.ensemble import RandomForestClassifier\n",
    "from sklearn.decomposition import PCA \n",
    "from sklearn.feature_selection import SelectKBest, chi2, SequentialFeatureSelector\n",
    "from sklearn.naive_bayes import GaussianNB\n",
    "from sklearn.manifold import TSNE\n",
    "\n",
    "scaler = Normalizer()\n",
    "random_forest = RandomForestClassifier()\n",
    "pca = PCA()\n",
    "\n",
    "# \"greedy_featureselection\", SequentialFeatureSelector(estimator = random_forest, n_features_to_select=10, cv=2, n_jobs=-1))\n",
    "#\n",
    "pipe = Pipeline(steps=[('select', SelectKBest()), (\"random_forest\", random_forest)])"
   ]
  },
  {
   "cell_type": "markdown",
   "metadata": {},
   "source": [
    "### Gridsearch for optimal hyperparameters Random Forest Classifer "
   ]
  },
  {
   "cell_type": "code",
   "execution_count": 5,
   "metadata": {},
   "outputs": [
    {
     "name": "stdout",
     "output_type": "stream",
     "text": [
      "Fitting 3 folds for each of 16 candidates, totalling 48 fits\n",
      "[CV] END ........random_forest__n_estimators=50, select__k=2; total time=   0.7s\n",
      "[CV] END ........random_forest__n_estimators=50, select__k=2; total time=   0.5s\n",
      "[CV] END ........random_forest__n_estimators=50, select__k=2; total time=   0.4s\n",
      "[CV] END ........random_forest__n_estimators=50, select__k=5; total time=   0.4s\n",
      "[CV] END ........random_forest__n_estimators=50, select__k=5; total time=   0.3s\n",
      "[CV] END ........random_forest__n_estimators=50, select__k=5; total time=   0.4s\n",
      "[CV] END .......random_forest__n_estimators=50, select__k=10; total time=   0.3s\n",
      "[CV] END .......random_forest__n_estimators=50, select__k=10; total time=   0.3s\n",
      "[CV] END .......random_forest__n_estimators=50, select__k=10; total time=   0.3s\n",
      "[CV] END .......random_forest__n_estimators=50, select__k=20; total time=   0.4s\n",
      "[CV] END .......random_forest__n_estimators=50, select__k=20; total time=   0.4s\n",
      "[CV] END .......random_forest__n_estimators=50, select__k=20; total time=   0.3s\n",
      "[CV] END .......random_forest__n_estimators=100, select__k=2; total time=   0.4s\n",
      "[CV] END .......random_forest__n_estimators=100, select__k=2; total time=   0.4s\n",
      "[CV] END .......random_forest__n_estimators=100, select__k=2; total time=   0.4s\n",
      "[CV] END .......random_forest__n_estimators=100, select__k=5; total time=   0.4s\n",
      "[CV] END .......random_forest__n_estimators=100, select__k=5; total time=   0.4s\n",
      "[CV] END .......random_forest__n_estimators=100, select__k=5; total time=   0.4s\n",
      "[CV] END ......random_forest__n_estimators=100, select__k=10; total time=   0.4s\n",
      "[CV] END ......random_forest__n_estimators=100, select__k=10; total time=   0.4s\n",
      "[CV] END ......random_forest__n_estimators=100, select__k=10; total time=   0.5s\n",
      "[CV] END ......random_forest__n_estimators=100, select__k=20; total time=   0.4s\n",
      "[CV] END ......random_forest__n_estimators=100, select__k=20; total time=   0.5s\n",
      "[CV] END ......random_forest__n_estimators=100, select__k=20; total time=   0.5s\n",
      "[CV] END .......random_forest__n_estimators=500, select__k=2; total time=   1.1s\n",
      "[CV] END .......random_forest__n_estimators=500, select__k=2; total time=   1.1s\n",
      "[CV] END .......random_forest__n_estimators=500, select__k=2; total time=   1.1s\n",
      "[CV] END .......random_forest__n_estimators=500, select__k=5; total time=   1.1s\n",
      "[CV] END .......random_forest__n_estimators=500, select__k=5; total time=   1.2s\n",
      "[CV] END .......random_forest__n_estimators=500, select__k=5; total time=   1.3s\n",
      "[CV] END ......random_forest__n_estimators=500, select__k=10; total time=   1.3s\n",
      "[CV] END ......random_forest__n_estimators=500, select__k=10; total time=   1.7s\n",
      "[CV] END ......random_forest__n_estimators=500, select__k=10; total time=   2.4s\n",
      "[CV] END ......random_forest__n_estimators=500, select__k=20; total time=   2.4s\n",
      "[CV] END ......random_forest__n_estimators=500, select__k=20; total time=   1.6s\n",
      "[CV] END ......random_forest__n_estimators=500, select__k=20; total time=   1.6s\n",
      "[CV] END ......random_forest__n_estimators=1000, select__k=2; total time=   3.1s\n",
      "[CV] END ......random_forest__n_estimators=1000, select__k=2; total time=   2.7s\n",
      "[CV] END ......random_forest__n_estimators=1000, select__k=2; total time=   2.4s\n",
      "[CV] END ......random_forest__n_estimators=1000, select__k=5; total time=   2.3s\n",
      "[CV] END ......random_forest__n_estimators=1000, select__k=5; total time=   2.4s\n",
      "[CV] END ......random_forest__n_estimators=1000, select__k=5; total time=   2.1s\n",
      "[CV] END .....random_forest__n_estimators=1000, select__k=10; total time=   2.7s\n",
      "[CV] END .....random_forest__n_estimators=1000, select__k=10; total time=   2.3s\n",
      "[CV] END .....random_forest__n_estimators=1000, select__k=10; total time=   2.3s\n",
      "[CV] END .....random_forest__n_estimators=1000, select__k=20; total time=   2.7s\n",
      "[CV] END .....random_forest__n_estimators=1000, select__k=20; total time=   2.7s\n",
      "[CV] END .....random_forest__n_estimators=1000, select__k=20; total time=   2.4s\n"
     ]
    },
    {
     "data": {
      "text/plain": [
       "GridSearchCV(cv=3,\n",
       "             estimator=Pipeline(steps=[('select', SelectKBest()),\n",
       "                                       ('random_forest',\n",
       "                                        RandomForestClassifier())]),\n",
       "             param_grid={'random_forest__n_estimators': [50, 100, 500, 1000],\n",
       "                         'select__k': [2, 5, 10, 20]},\n",
       "             scoring='f1', verbose=2)"
      ]
     },
     "execution_count": 5,
     "metadata": {},
     "output_type": "execute_result"
    }
   ],
   "source": [
    "from sklearn.model_selection import GridSearchCV\n",
    "\n",
    "parameters = {'select__k': [2, 5, 10, 20], 'random_forest__n_estimators': [50,100, 500, 1000]}\n",
    "search = GridSearchCV(pipe, parameters, cv=3, scoring = 'f1', verbose=2)\n",
    "search.fit(X_train, y_train)"
   ]
  },
  {
   "cell_type": "code",
   "execution_count": 6,
   "metadata": {},
   "outputs": [
    {
     "data": {
      "text/html": [
       "<div>\n",
       "<style scoped>\n",
       "    .dataframe tbody tr th:only-of-type {\n",
       "        vertical-align: middle;\n",
       "    }\n",
       "\n",
       "    .dataframe tbody tr th {\n",
       "        vertical-align: top;\n",
       "    }\n",
       "\n",
       "    .dataframe thead th {\n",
       "        text-align: right;\n",
       "    }\n",
       "</style>\n",
       "<table border=\"1\" class=\"dataframe\">\n",
       "  <thead>\n",
       "    <tr style=\"text-align: right;\">\n",
       "      <th></th>\n",
       "      <th>param_random_forest__n_estimators</th>\n",
       "      <th>param_select__k</th>\n",
       "      <th>params</th>\n",
       "      <th>split0_test_score</th>\n",
       "      <th>split1_test_score</th>\n",
       "      <th>split2_test_score</th>\n",
       "      <th>mean_test_score</th>\n",
       "      <th>std_test_score</th>\n",
       "      <th>rank_test_score</th>\n",
       "    </tr>\n",
       "  </thead>\n",
       "  <tbody>\n",
       "    <tr>\n",
       "      <th>6</th>\n",
       "      <td>100</td>\n",
       "      <td>10</td>\n",
       "      <td>{'random_forest__n_estimators': 100, 'select__...</td>\n",
       "      <td>0.320000</td>\n",
       "      <td>0.421053</td>\n",
       "      <td>0.440678</td>\n",
       "      <td>0.393910</td>\n",
       "      <td>0.052873</td>\n",
       "      <td>1</td>\n",
       "    </tr>\n",
       "    <tr>\n",
       "      <th>14</th>\n",
       "      <td>1000</td>\n",
       "      <td>10</td>\n",
       "      <td>{'random_forest__n_estimators': 1000, 'select_...</td>\n",
       "      <td>0.280000</td>\n",
       "      <td>0.456140</td>\n",
       "      <td>0.385965</td>\n",
       "      <td>0.374035</td>\n",
       "      <td>0.072402</td>\n",
       "      <td>2</td>\n",
       "    </tr>\n",
       "    <tr>\n",
       "      <th>10</th>\n",
       "      <td>500</td>\n",
       "      <td>10</td>\n",
       "      <td>{'random_forest__n_estimators': 500, 'select__...</td>\n",
       "      <td>0.274510</td>\n",
       "      <td>0.456140</td>\n",
       "      <td>0.363636</td>\n",
       "      <td>0.364762</td>\n",
       "      <td>0.074155</td>\n",
       "      <td>3</td>\n",
       "    </tr>\n",
       "    <tr>\n",
       "      <th>3</th>\n",
       "      <td>50</td>\n",
       "      <td>20</td>\n",
       "      <td>{'random_forest__n_estimators': 50, 'select__k...</td>\n",
       "      <td>0.367347</td>\n",
       "      <td>0.392857</td>\n",
       "      <td>0.318182</td>\n",
       "      <td>0.359462</td>\n",
       "      <td>0.030992</td>\n",
       "      <td>4</td>\n",
       "    </tr>\n",
       "    <tr>\n",
       "      <th>11</th>\n",
       "      <td>500</td>\n",
       "      <td>20</td>\n",
       "      <td>{'random_forest__n_estimators': 500, 'select__...</td>\n",
       "      <td>0.360000</td>\n",
       "      <td>0.436364</td>\n",
       "      <td>0.266667</td>\n",
       "      <td>0.354343</td>\n",
       "      <td>0.069394</td>\n",
       "      <td>5</td>\n",
       "    </tr>\n",
       "  </tbody>\n",
       "</table>\n",
       "</div>"
      ],
      "text/plain": [
       "   param_random_forest__n_estimators param_select__k  \\\n",
       "6                                100              10   \n",
       "14                              1000              10   \n",
       "10                               500              10   \n",
       "3                                 50              20   \n",
       "11                               500              20   \n",
       "\n",
       "                                               params  split0_test_score  \\\n",
       "6   {'random_forest__n_estimators': 100, 'select__...           0.320000   \n",
       "14  {'random_forest__n_estimators': 1000, 'select_...           0.280000   \n",
       "10  {'random_forest__n_estimators': 500, 'select__...           0.274510   \n",
       "3   {'random_forest__n_estimators': 50, 'select__k...           0.367347   \n",
       "11  {'random_forest__n_estimators': 500, 'select__...           0.360000   \n",
       "\n",
       "    split1_test_score  split2_test_score  mean_test_score  std_test_score  \\\n",
       "6            0.421053           0.440678         0.393910        0.052873   \n",
       "14           0.456140           0.385965         0.374035        0.072402   \n",
       "10           0.456140           0.363636         0.364762        0.074155   \n",
       "3            0.392857           0.318182         0.359462        0.030992   \n",
       "11           0.436364           0.266667         0.354343        0.069394   \n",
       "\n",
       "    rank_test_score  \n",
       "6                 1  \n",
       "14                2  \n",
       "10                3  \n",
       "3                 4  \n",
       "11                5  "
      ]
     },
     "execution_count": 6,
     "metadata": {},
     "output_type": "execute_result"
    }
   ],
   "source": [
    "evaluation_grid= pd.DataFrame(search.cv_results_).sort_values('rank_test_score')\n",
    "evaluation_grid.drop(['mean_fit_time', 'std_fit_time', 'mean_score_time', 'std_score_time'], axis=1).head(5)"
   ]
  },
  {
   "cell_type": "markdown",
   "metadata": {},
   "source": [
    "### Complexity - Learning Curve"
   ]
  },
  {
   "cell_type": "code",
   "execution_count": 7,
   "metadata": {},
   "outputs": [],
   "source": [
    "from sklearn.model_selection import learning_curve\n",
    "from sklearn.ensemble import RandomForestClassifier\n",
    "\n",
    "clf = search.best_estimator_\n"
   ]
  },
  {
   "cell_type": "code",
   "execution_count": 16,
   "metadata": {},
   "outputs": [
    {
     "name": "stdout",
     "output_type": "stream",
     "text": [
      "[learning_curve] Training set sizes: [ 66 214 363 512 661]\n"
     ]
    },
    {
     "name": "stderr",
     "output_type": "stream",
     "text": [
      "[Parallel(n_jobs=1)]: Using backend SequentialBackend with 1 concurrent workers.\n"
     ]
    },
    {
     "name": "stdout",
     "output_type": "stream",
     "text": [
      "[CV] END .................................................... total time=   0.5s\n"
     ]
    },
    {
     "name": "stderr",
     "output_type": "stream",
     "text": [
      "[Parallel(n_jobs=1)]: Done   1 out of   1 | elapsed:    0.6s remaining:    0.0s\n"
     ]
    },
    {
     "name": "stdout",
     "output_type": "stream",
     "text": [
      "[CV] END .................................................... total time=   0.4s\n",
      "[CV] END .................................................... total time=   0.6s\n",
      "[CV] END .................................................... total time=   0.8s\n",
      "[CV] END .................................................... total time=   1.0s\n",
      "[CV] END .................................................... total time=   0.4s\n",
      "[CV] END .................................................... total time=   0.4s\n",
      "[CV] END .................................................... total time=   0.5s\n",
      "[CV] END .................................................... total time=   0.8s\n",
      "[CV] END .................................................... total time=   1.0s\n",
      "[CV] END .................................................... total time=   0.3s\n",
      "[CV] END .................................................... total time=   0.7s\n",
      "[CV] END .................................................... total time=   1.1s\n",
      "[CV] END .................................................... total time=   0.9s\n",
      "[CV] END .................................................... total time=   0.9s\n",
      "[CV] END .................................................... total time=   0.3s\n",
      "[CV] END .................................................... total time=   0.4s\n",
      "[CV] END .................................................... total time=   0.5s\n",
      "[CV] END .................................................... total time=   0.6s\n",
      "[CV] END .................................................... total time=   0.7s\n",
      "[CV] END .................................................... total time=   0.3s\n",
      "[CV] END .................................................... total time=   0.4s\n",
      "[CV] END .................................................... total time=   0.5s\n",
      "[CV] END .................................................... total time=   0.6s\n",
      "[CV] END .................................................... total time=   0.7s\n"
     ]
    },
    {
     "name": "stderr",
     "output_type": "stream",
     "text": [
      "[Parallel(n_jobs=1)]: Done  25 out of  25 | elapsed:   20.4s finished\n"
     ]
    },
    {
     "data": {
      "image/png": "[encoded data removed]",
      "text/plain": [
       "<Figure size 864x576 with 1 Axes>"
      ]
     },
     "metadata": {
      "needs_background": "light"
     },
     "output_type": "display_data"
    }
   ],
   "source": [
    "import matplotlib.pyplot as plt\n",
    "import numpy as np\n",
    "\n",
    "def plot_learning_curve(clf, X_train, y_train):\n",
    "    train_size, train_scores, test_scores = learning_curve(clf, X, y, verbose=2)\n",
    "    \n",
    "    train_mean = np.mean(train_scores, axis=1)\n",
    "    train_std = np.std(train_scores, axis=1)\n",
    "    test_mean = np.mean(test_scores, axis=1)\n",
    "    test_std = np.std(test_scores, axis=1)\n",
    "\n",
    "    plt.figure(figsize=(12, 8))\n",
    "    plt.title(f'Learning curve for {str(type(clf[-1])).split(\".\")[-1][:-2]}')\n",
    "    plt.plot(train_size, train_mean, color='b', label='training')\n",
    "    plt.plot(train_size, test_mean, color='orange', label='validation')\n",
    "\n",
    "    plt.fill_between(train_size, train_mean-train_std, train_mean+train_std, color='b', alpha=0.3)\n",
    "    plt.fill_between(train_size, test_mean-test_std, test_mean+test_std, color='orange', alpha=0.3)\n",
    "    \n",
    "    plt.grid()\n",
    "    plt.ylim([0, 1.1])\n",
    "    plt.xlabel('Training examples')\n",
    "    plt.ylabel('Score')\n",
    "    plt.legend()\n",
    "    plt.show()\n",
    "\n",
    "plot_learning_curve(clf, X, y)"
   ]
  },
  {
   "cell_type": "markdown",
   "metadata": {},
   "source": [
    "### Evaluation of classifier "
   ]
  },
  {
   "cell_type": "code",
   "execution_count": 138,
   "metadata": {},
   "outputs": [
    {
     "data": {
      "text/plain": [
       "0.25396825396825395"
      ]
     },
     "execution_count": 138,
     "metadata": {},
     "output_type": "execute_result"
    }
   ],
   "source": [
    "from sklearn.metrics import f1_score, confusion_matrix\n",
    "best_clf = search.best_estimator_\n",
    "y_pred = best_clf.predict(X_test)\n",
    "f1_score(y_test, y_pred)\n"
   ]
  },
  {
   "cell_type": "code",
   "execution_count": 139,
   "metadata": {},
   "outputs": [
    {
     "data": {
      "text/html": [
       "<div>\n",
       "<style scoped>\n",
       "    .dataframe tbody tr th:only-of-type {\n",
       "        vertical-align: middle;\n",
       "    }\n",
       "\n",
       "    .dataframe tbody tr th {\n",
       "        vertical-align: top;\n",
       "    }\n",
       "\n",
       "    .dataframe thead th {\n",
       "        text-align: right;\n",
       "    }\n",
       "</style>\n",
       "<table border=\"1\" class=\"dataframe\">\n",
       "  <thead>\n",
       "    <tr style=\"text-align: right;\">\n",
       "      <th></th>\n",
       "      <th>normal</th>\n",
       "      <th>abnormal</th>\n",
       "    </tr>\n",
       "  </thead>\n",
       "  <tbody>\n",
       "    <tr>\n",
       "      <th>normal</th>\n",
       "      <td>218</td>\n",
       "      <td>9</td>\n",
       "    </tr>\n",
       "    <tr>\n",
       "      <th>abnormal</th>\n",
       "      <td>38</td>\n",
       "      <td>8</td>\n",
       "    </tr>\n",
       "  </tbody>\n",
       "</table>\n",
       "</div>"
      ],
      "text/plain": [
       "          normal  abnormal\n",
       "normal       218         9\n",
       "abnormal      38         8"
      ]
     },
     "execution_count": 139,
     "metadata": {},
     "output_type": "execute_result"
    }
   ],
   "source": [
    "pd.DataFrame(confusion_matrix(y_test, y_pred), columns=['normal', 'abnormal'], index= ['normal', 'abnormal'])"
   ]
  }
 ],
 "metadata": {
  "colab": {
   "collapsed_sections": [],
   "name": "assignment.ipynb",
   "provenance": []
  },
  "kernelspec": {
   "display_name": "Python 3",
   "language": "python",
   "name": "python3"
  },
  "language_info": {
   "codemirror_mode": {
    "name": "ipython",
    "version": 3
   },
   "file_extension": ".py",
   "mimetype": "text/x-python",
   "name": "python",
   "nbconvert_exporter": "python",
   "pygments_lexer": "ipython3",
   "version": "3.9.7"
  }
 },
 "nbformat": 4,
 "nbformat_minor": 1
}
