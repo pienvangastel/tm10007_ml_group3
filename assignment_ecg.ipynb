{
 "cells": [
  {
   "cell_type": "markdown",
   "metadata": {
    "colab_type": "text",
    "id": "7SXpaKwwGe5x"
   },
   "source": [
    "# TM10007 Assignment template -- ECG data"
   ]
  },
  {
   "cell_type": "markdown",
   "metadata": {},
   "source": [
    "## Data loading and cleaning\n",
    "\n",
    "Below are functions to load the dataset of your choice. After that, it is all up to you to create and evaluate a classification method. Beware, there may be missing values in these datasets. Good luck!"
   ]
  },
  {
   "cell_type": "markdown",
   "metadata": {},
   "source": [
    "### Load features and labels into dataframe from csv file "
   ]
  },
  {
   "cell_type": "code",
   "execution_count": 1,
   "metadata": {
    "colab": {
     "base_uri": "https://localhost:8080/",
     "height": 69
    },
    "colab_type": "code",
    "id": "CiDn2Sk-VWqE",
    "outputId": "64224cd2-6054-4b04-a3f6-af8290400dfc"
   },
   "outputs": [
    {
     "name": "stdout",
     "output_type": "stream",
     "text": [
      "The number of samples: 827\n",
      "The number of columns: 9001\n"
     ]
    }
   ],
   "source": [
    "import zipfile\n",
    "import os\n",
    "import pandas as pd\n",
    "\n",
    "with zipfile.ZipFile('./ecg/ecg_data.zip', 'r') as zip_ref:\n",
    "    zip_ref.extractall('./ecg/')\n",
    "\n",
    "data = pd.read_csv('./ecg/ecg_data.csv', index_col=0)\n",
    "\n",
    "file = './ecg/ecg_data.csv'\n",
    "if(os.path.exists(file) and os.path.isfile(file)):\n",
    "  os.remove(file)\n",
    "\n",
    "print(f'The number of samples: {len(data.index)}')\n",
    "print(f'The number of columns: {len(data.columns)}')"
   ]
  },
  {
   "cell_type": "markdown",
   "metadata": {},
   "source": [
    "### Create test-train split"
   ]
  },
  {
   "cell_type": "code",
   "execution_count": 8,
   "metadata": {},
   "outputs": [],
   "source": [
    "from sklearn.model_selection import train_test_split\n",
    "\n",
    "y = data.label\n",
    "X = data.drop('label', axis=1)\n",
    "\n",
    "# Need to find logical nubmers for test_size and random_state and add this in the report. \n",
    "X_train, X_test, y_train, y_test = train_test_split(\n",
    "    X, y, test_size=0.3, random_state=42)"
   ]
  },
  {
   "cell_type": "markdown",
   "metadata": {},
   "source": [
    "### Plotting of training data "
   ]
  },
  {
   "cell_type": "code",
   "execution_count": 21,
   "metadata": {},
   "outputs": [
    {
     "data": {
      "text/plain": [
       "(578, 3)"
      ]
     },
     "execution_count": 21,
     "metadata": {},
     "output_type": "execute_result"
    }
   ],
   "source": [
    "type(X_pca)\n",
    "X_pca.shape\n"
   ]
  },
  {
   "cell_type": "code",
   "execution_count": 23,
   "metadata": {},
   "outputs": [
    {
     "data": {
      "text/plain": [
       "<AxesSubplot:>"
      ]
     },
     "execution_count": 23,
     "metadata": {},
     "output_type": "execute_result"
    },
    {
     "data": {
      "image/png": "[encoded data removed]",
      "text/plain": [
       "<Figure size 432x288 with 1 Axes>"
      ]
     },
     "metadata": {
      "needs_background": "light"
     },
     "output_type": "display_data"
    }
   ],
   "source": [
    "from sklearn import decomposition\n",
    "from sklearn.preprocessing import StandardScaler\n",
    "import seaborn \n",
    "\n",
    "scaler = preprocessing.StandardScaler()\n",
    "scaler.fit(X_train)\n",
    "X_scaled = scaler.transform(X_train)\n",
    "\n",
    "pca = decomposition.PCA(n_components=3)\n",
    "pca.fit(X_scaled)\n",
    "X_pca = pca.transform(X_scaled)\n",
    "\n",
    "seaborn.scatterplot(x=X_pca[:, 0], y=X_pca[:, 1], hue=y_train)"
   ]
  },
  {
   "cell_type": "markdown",
   "metadata": {},
   "source": [
    "### Preprocessing"
   ]
  },
  {
   "cell_type": "code",
   "execution_count": 140,
   "metadata": {},
   "outputs": [],
   "source": [
    "from sklearn.pipeline import Pipeline, FeatureUnion\n",
    "from sklearn.ensemble import RandomForestClassifier\n",
    "from sklearn.decomposition import PCA \n",
    "from sklearn.feature_selection import SelectKBest, chi2, SequentialFeatureSelector\n",
    "from sklearn.naive_bayes import GaussianNB\n",
    "from sklearn.manifold import TSNE\n",
    "\n",
    "scaler = StandardScaler()\n",
    "random_forest = RandomForestClassifier()\n",
    "pca = PCA()\n",
    "\n",
    "# \"greedy_featureselection\", SequentialFeatureSelector(estimator = random_forest, n_features_to_select=10, cv=2, n_jobs=-1))\n",
    "#\n",
    "pipe = Pipeline(steps=[('select', SelectKBest()), (\"random_forest\", random_forest)])"
   ]
  },
  {
   "cell_type": "markdown",
   "metadata": {},
   "source": [
    "### Gridsearch for optimal hyperparameters Random Forest Classifer "
   ]
  },
  {
   "cell_type": "code",
   "execution_count": 141,
   "metadata": {},
   "outputs": [
    {
     "name": "stdout",
     "output_type": "stream",
     "text": [
      "Fitting 3 folds for each of 16 candidates, totalling 48 fits\n",
      "[CV 1/3] END random_forest__n_estimators=50, select__k=2;, score=0.213 total time=   0.2s\n",
      "[CV 2/3] END random_forest__n_estimators=50, select__k=2;, score=0.291 total time=   0.2s\n",
      "[CV 3/3] END random_forest__n_estimators=50, select__k=2;, score=0.235 total time=   0.2s\n",
      "[CV 1/3] END random_forest__n_estimators=50, select__k=5;, score=0.340 total time=   0.2s\n",
      "[CV 2/3] END random_forest__n_estimators=50, select__k=5;, score=0.429 total time=   0.2s\n",
      "[CV 3/3] END random_forest__n_estimators=50, select__k=5;, score=0.327 total time=   0.2s\n",
      "[CV 1/3] END random_forest__n_estimators=50, select__k=10;, score=0.364 total time=   0.2s\n",
      "[CV 2/3] END random_forest__n_estimators=50, select__k=10;, score=0.415 total time=   0.2s\n",
      "[CV 3/3] END random_forest__n_estimators=50, select__k=10;, score=0.327 total time=   0.2s\n",
      "[CV 1/3] END random_forest__n_estimators=50, select__k=20;, score=0.364 total time=   0.2s\n",
      "[CV 2/3] END random_forest__n_estimators=50, select__k=20;, score=0.423 total time=   0.2s\n",
      "[CV 3/3] END random_forest__n_estimators=50, select__k=20;, score=0.318 total time=   0.2s\n",
      "[CV 1/3] END random_forest__n_estimators=100, select__k=2;, score=0.217 total time=   0.3s\n",
      "[CV 2/3] END random_forest__n_estimators=100, select__k=2;, score=0.160 total time=   0.2s\n",
      "[CV 3/3] END random_forest__n_estimators=100, select__k=2;, score=0.280 total time=   0.2s\n",
      "[CV 1/3] END random_forest__n_estimators=100, select__k=5;, score=0.340 total time=   0.2s\n",
      "[CV 2/3] END random_forest__n_estimators=100, select__k=5;, score=0.400 total time=   0.2s\n",
      "[CV 3/3] END random_forest__n_estimators=100, select__k=5;, score=0.261 total time=   0.3s\n",
      "[CV 1/3] END random_forest__n_estimators=100, select__k=10;, score=0.318 total time=   0.2s\n",
      "[CV 2/3] END random_forest__n_estimators=100, select__k=10;, score=0.385 total time=   0.2s\n",
      "[CV 3/3] END random_forest__n_estimators=100, select__k=10;, score=0.431 total time=   0.2s\n",
      "[CV 1/3] END random_forest__n_estimators=100, select__k=20;, score=0.383 total time=   0.3s\n",
      "[CV 2/3] END random_forest__n_estimators=100, select__k=20;, score=0.423 total time=   0.3s\n",
      "[CV 3/3] END random_forest__n_estimators=100, select__k=20;, score=0.326 total time=   0.3s\n",
      "[CV 1/3] END random_forest__n_estimators=500, select__k=2;, score=0.304 total time=   0.7s\n",
      "[CV 2/3] END random_forest__n_estimators=500, select__k=2;, score=0.196 total time=   0.7s\n",
      "[CV 3/3] END random_forest__n_estimators=500, select__k=2;, score=0.204 total time=   0.7s\n",
      "[CV 1/3] END random_forest__n_estimators=500, select__k=5;, score=0.340 total time=   0.8s\n",
      "[CV 2/3] END random_forest__n_estimators=500, select__k=5;, score=0.448 total time=   0.8s\n",
      "[CV 3/3] END random_forest__n_estimators=500, select__k=5;, score=0.261 total time=   0.7s\n",
      "[CV 1/3] END random_forest__n_estimators=500, select__k=10;, score=0.311 total time=   0.8s\n",
      "[CV 2/3] END random_forest__n_estimators=500, select__k=10;, score=0.377 total time=   0.8s\n",
      "[CV 3/3] END random_forest__n_estimators=500, select__k=10;, score=0.333 total time=   0.8s\n",
      "[CV 1/3] END random_forest__n_estimators=500, select__k=20;, score=0.383 total time=   0.8s\n",
      "[CV 2/3] END random_forest__n_estimators=500, select__k=20;, score=0.392 total time=   0.9s\n",
      "[CV 3/3] END random_forest__n_estimators=500, select__k=20;, score=0.364 total time=   0.9s\n",
      "[CV 1/3] END random_forest__n_estimators=1000, select__k=2;, score=0.292 total time=   1.2s\n",
      "[CV 2/3] END random_forest__n_estimators=1000, select__k=2;, score=0.269 total time=   1.3s\n",
      "[CV 3/3] END random_forest__n_estimators=1000, select__k=2;, score=0.208 total time=   1.2s\n",
      "[CV 1/3] END random_forest__n_estimators=1000, select__k=5;, score=0.286 total time=   1.3s\n",
      "[CV 2/3] END random_forest__n_estimators=1000, select__k=5;, score=0.421 total time=   1.3s\n",
      "[CV 3/3] END random_forest__n_estimators=1000, select__k=5;, score=0.267 total time=   1.4s\n",
      "[CV 1/3] END random_forest__n_estimators=1000, select__k=10;, score=0.238 total time=   1.4s\n",
      "[CV 2/3] END random_forest__n_estimators=1000, select__k=10;, score=0.377 total time=   1.5s\n",
      "[CV 3/3] END random_forest__n_estimators=1000, select__k=10;, score=0.400 total time=   1.4s\n",
      "[CV 1/3] END random_forest__n_estimators=1000, select__k=20;, score=0.417 total time=   1.6s\n",
      "[CV 2/3] END random_forest__n_estimators=1000, select__k=20;, score=0.429 total time=   1.6s\n",
      "[CV 3/3] END random_forest__n_estimators=1000, select__k=20;, score=0.400 total time=   1.8s\n"
     ]
    },
    {
     "data": {
      "text/plain": [
       "GridSearchCV(cv=3,\n",
       "             estimator=Pipeline(steps=[('select', SelectKBest()),\n",
       "                                       ('random_forest',\n",
       "                                        RandomForestClassifier())]),\n",
       "             param_grid={'random_forest__n_estimators': [50, 100, 500, 1000],\n",
       "                         'select__k': [2, 5, 10, 20]},\n",
       "             scoring='f1', verbose=5)"
      ]
     },
     "execution_count": 141,
     "metadata": {},
     "output_type": "execute_result"
    }
   ],
   "source": [
    "from sklearn.model_selection import GridSearchCV\n",
    "\n",
    "parameters = {'select__k': [2, 5, 10, 20], 'random_forest__n_estimators': [50,100, 500, 1000]}\n",
    "search = GridSearchCV(pipe, parameters, cv=5, scoring = 'f1', verbose=5)\n",
    "search.fit(X_train, y_train)"
   ]
  },
  {
   "cell_type": "code",
   "execution_count": 142,
   "metadata": {},
   "outputs": [
    {
     "data": {
      "text/html": [
       "<div>\n",
       "<style scoped>\n",
       "    .dataframe tbody tr th:only-of-type {\n",
       "        vertical-align: middle;\n",
       "    }\n",
       "\n",
       "    .dataframe tbody tr th {\n",
       "        vertical-align: top;\n",
       "    }\n",
       "\n",
       "    .dataframe thead th {\n",
       "        text-align: right;\n",
       "    }\n",
       "</style>\n",
       "<table border=\"1\" class=\"dataframe\">\n",
       "  <thead>\n",
       "    <tr style=\"text-align: right;\">\n",
       "      <th></th>\n",
       "      <th>param_random_forest__n_estimators</th>\n",
       "      <th>param_select__k</th>\n",
       "      <th>params</th>\n",
       "      <th>split0_test_score</th>\n",
       "      <th>split1_test_score</th>\n",
       "      <th>split2_test_score</th>\n",
       "      <th>mean_test_score</th>\n",
       "      <th>std_test_score</th>\n",
       "      <th>rank_test_score</th>\n",
       "    </tr>\n",
       "  </thead>\n",
       "  <tbody>\n",
       "    <tr>\n",
       "      <th>15</th>\n",
       "      <td>1000</td>\n",
       "      <td>20</td>\n",
       "      <td>{'random_forest__n_estimators': 1000, 'select_...</td>\n",
       "      <td>0.416667</td>\n",
       "      <td>0.428571</td>\n",
       "      <td>0.400000</td>\n",
       "      <td>0.415079</td>\n",
       "      <td>0.011718</td>\n",
       "      <td>1</td>\n",
       "    </tr>\n",
       "    <tr>\n",
       "      <th>11</th>\n",
       "      <td>500</td>\n",
       "      <td>20</td>\n",
       "      <td>{'random_forest__n_estimators': 500, 'select__...</td>\n",
       "      <td>0.382979</td>\n",
       "      <td>0.392157</td>\n",
       "      <td>0.363636</td>\n",
       "      <td>0.379591</td>\n",
       "      <td>0.011887</td>\n",
       "      <td>2</td>\n",
       "    </tr>\n",
       "    <tr>\n",
       "      <th>6</th>\n",
       "      <td>100</td>\n",
       "      <td>10</td>\n",
       "      <td>{'random_forest__n_estimators': 100, 'select__...</td>\n",
       "      <td>0.318182</td>\n",
       "      <td>0.384615</td>\n",
       "      <td>0.431373</td>\n",
       "      <td>0.378057</td>\n",
       "      <td>0.046442</td>\n",
       "      <td>3</td>\n",
       "    </tr>\n",
       "    <tr>\n",
       "      <th>7</th>\n",
       "      <td>100</td>\n",
       "      <td>20</td>\n",
       "      <td>{'random_forest__n_estimators': 100, 'select__...</td>\n",
       "      <td>0.382979</td>\n",
       "      <td>0.423077</td>\n",
       "      <td>0.325581</td>\n",
       "      <td>0.377212</td>\n",
       "      <td>0.040011</td>\n",
       "      <td>4</td>\n",
       "    </tr>\n",
       "    <tr>\n",
       "      <th>2</th>\n",
       "      <td>50</td>\n",
       "      <td>10</td>\n",
       "      <td>{'random_forest__n_estimators': 50, 'select__k...</td>\n",
       "      <td>0.363636</td>\n",
       "      <td>0.415094</td>\n",
       "      <td>0.326531</td>\n",
       "      <td>0.368420</td>\n",
       "      <td>0.036314</td>\n",
       "      <td>5</td>\n",
       "    </tr>\n",
       "    <tr>\n",
       "      <th>3</th>\n",
       "      <td>50</td>\n",
       "      <td>20</td>\n",
       "      <td>{'random_forest__n_estimators': 50, 'select__k...</td>\n",
       "      <td>0.363636</td>\n",
       "      <td>0.423077</td>\n",
       "      <td>0.318182</td>\n",
       "      <td>0.368298</td>\n",
       "      <td>0.042950</td>\n",
       "      <td>6</td>\n",
       "    </tr>\n",
       "    <tr>\n",
       "      <th>1</th>\n",
       "      <td>50</td>\n",
       "      <td>5</td>\n",
       "      <td>{'random_forest__n_estimators': 50, 'select__k...</td>\n",
       "      <td>0.340426</td>\n",
       "      <td>0.428571</td>\n",
       "      <td>0.326531</td>\n",
       "      <td>0.365176</td>\n",
       "      <td>0.045185</td>\n",
       "      <td>7</td>\n",
       "    </tr>\n",
       "    <tr>\n",
       "      <th>9</th>\n",
       "      <td>500</td>\n",
       "      <td>5</td>\n",
       "      <td>{'random_forest__n_estimators': 500, 'select__...</td>\n",
       "      <td>0.340426</td>\n",
       "      <td>0.448276</td>\n",
       "      <td>0.260870</td>\n",
       "      <td>0.349857</td>\n",
       "      <td>0.076798</td>\n",
       "      <td>8</td>\n",
       "    </tr>\n",
       "    <tr>\n",
       "      <th>10</th>\n",
       "      <td>500</td>\n",
       "      <td>10</td>\n",
       "      <td>{'random_forest__n_estimators': 500, 'select__...</td>\n",
       "      <td>0.311111</td>\n",
       "      <td>0.377358</td>\n",
       "      <td>0.333333</td>\n",
       "      <td>0.340601</td>\n",
       "      <td>0.027529</td>\n",
       "      <td>9</td>\n",
       "    </tr>\n",
       "    <tr>\n",
       "      <th>14</th>\n",
       "      <td>1000</td>\n",
       "      <td>10</td>\n",
       "      <td>{'random_forest__n_estimators': 1000, 'select_...</td>\n",
       "      <td>0.238095</td>\n",
       "      <td>0.377358</td>\n",
       "      <td>0.400000</td>\n",
       "      <td>0.338485</td>\n",
       "      <td>0.071585</td>\n",
       "      <td>10</td>\n",
       "    </tr>\n",
       "    <tr>\n",
       "      <th>5</th>\n",
       "      <td>100</td>\n",
       "      <td>5</td>\n",
       "      <td>{'random_forest__n_estimators': 100, 'select__...</td>\n",
       "      <td>0.340426</td>\n",
       "      <td>0.400000</td>\n",
       "      <td>0.260870</td>\n",
       "      <td>0.333765</td>\n",
       "      <td>0.056995</td>\n",
       "      <td>11</td>\n",
       "    </tr>\n",
       "    <tr>\n",
       "      <th>13</th>\n",
       "      <td>1000</td>\n",
       "      <td>5</td>\n",
       "      <td>{'random_forest__n_estimators': 1000, 'select_...</td>\n",
       "      <td>0.285714</td>\n",
       "      <td>0.421053</td>\n",
       "      <td>0.266667</td>\n",
       "      <td>0.324478</td>\n",
       "      <td>0.068730</td>\n",
       "      <td>12</td>\n",
       "    </tr>\n",
       "    <tr>\n",
       "      <th>12</th>\n",
       "      <td>1000</td>\n",
       "      <td>2</td>\n",
       "      <td>{'random_forest__n_estimators': 1000, 'select_...</td>\n",
       "      <td>0.291667</td>\n",
       "      <td>0.269231</td>\n",
       "      <td>0.208333</td>\n",
       "      <td>0.256410</td>\n",
       "      <td>0.035208</td>\n",
       "      <td>13</td>\n",
       "    </tr>\n",
       "    <tr>\n",
       "      <th>0</th>\n",
       "      <td>50</td>\n",
       "      <td>2</td>\n",
       "      <td>{'random_forest__n_estimators': 50, 'select__k...</td>\n",
       "      <td>0.212766</td>\n",
       "      <td>0.290909</td>\n",
       "      <td>0.235294</td>\n",
       "      <td>0.246323</td>\n",
       "      <td>0.032841</td>\n",
       "      <td>14</td>\n",
       "    </tr>\n",
       "    <tr>\n",
       "      <th>8</th>\n",
       "      <td>500</td>\n",
       "      <td>2</td>\n",
       "      <td>{'random_forest__n_estimators': 500, 'select__...</td>\n",
       "      <td>0.304348</td>\n",
       "      <td>0.196078</td>\n",
       "      <td>0.204082</td>\n",
       "      <td>0.234836</td>\n",
       "      <td>0.049261</td>\n",
       "      <td>15</td>\n",
       "    </tr>\n",
       "    <tr>\n",
       "      <th>4</th>\n",
       "      <td>100</td>\n",
       "      <td>2</td>\n",
       "      <td>{'random_forest__n_estimators': 100, 'select__...</td>\n",
       "      <td>0.217391</td>\n",
       "      <td>0.160000</td>\n",
       "      <td>0.280000</td>\n",
       "      <td>0.219130</td>\n",
       "      <td>0.049005</td>\n",
       "      <td>16</td>\n",
       "    </tr>\n",
       "  </tbody>\n",
       "</table>\n",
       "</div>"
      ],
      "text/plain": [
       "   param_random_forest__n_estimators param_select__k  \\\n",
       "15                              1000              20   \n",
       "11                               500              20   \n",
       "6                                100              10   \n",
       "7                                100              20   \n",
       "2                                 50              10   \n",
       "3                                 50              20   \n",
       "1                                 50               5   \n",
       "9                                500               5   \n",
       "10                               500              10   \n",
       "14                              1000              10   \n",
       "5                                100               5   \n",
       "13                              1000               5   \n",
       "12                              1000               2   \n",
       "0                                 50               2   \n",
       "8                                500               2   \n",
       "4                                100               2   \n",
       "\n",
       "                                               params  split0_test_score  \\\n",
       "15  {'random_forest__n_estimators': 1000, 'select_...           0.416667   \n",
       "11  {'random_forest__n_estimators': 500, 'select__...           0.382979   \n",
       "6   {'random_forest__n_estimators': 100, 'select__...           0.318182   \n",
       "7   {'random_forest__n_estimators': 100, 'select__...           0.382979   \n",
       "2   {'random_forest__n_estimators': 50, 'select__k...           0.363636   \n",
       "3   {'random_forest__n_estimators': 50, 'select__k...           0.363636   \n",
       "1   {'random_forest__n_estimators': 50, 'select__k...           0.340426   \n",
       "9   {'random_forest__n_estimators': 500, 'select__...           0.340426   \n",
       "10  {'random_forest__n_estimators': 500, 'select__...           0.311111   \n",
       "14  {'random_forest__n_estimators': 1000, 'select_...           0.238095   \n",
       "5   {'random_forest__n_estimators': 100, 'select__...           0.340426   \n",
       "13  {'random_forest__n_estimators': 1000, 'select_...           0.285714   \n",
       "12  {'random_forest__n_estimators': 1000, 'select_...           0.291667   \n",
       "0   {'random_forest__n_estimators': 50, 'select__k...           0.212766   \n",
       "8   {'random_forest__n_estimators': 500, 'select__...           0.304348   \n",
       "4   {'random_forest__n_estimators': 100, 'select__...           0.217391   \n",
       "\n",
       "    split1_test_score  split2_test_score  mean_test_score  std_test_score  \\\n",
       "15           0.428571           0.400000         0.415079        0.011718   \n",
       "11           0.392157           0.363636         0.379591        0.011887   \n",
       "6            0.384615           0.431373         0.378057        0.046442   \n",
       "7            0.423077           0.325581         0.377212        0.040011   \n",
       "2            0.415094           0.326531         0.368420        0.036314   \n",
       "3            0.423077           0.318182         0.368298        0.042950   \n",
       "1            0.428571           0.326531         0.365176        0.045185   \n",
       "9            0.448276           0.260870         0.349857        0.076798   \n",
       "10           0.377358           0.333333         0.340601        0.027529   \n",
       "14           0.377358           0.400000         0.338485        0.071585   \n",
       "5            0.400000           0.260870         0.333765        0.056995   \n",
       "13           0.421053           0.266667         0.324478        0.068730   \n",
       "12           0.269231           0.208333         0.256410        0.035208   \n",
       "0            0.290909           0.235294         0.246323        0.032841   \n",
       "8            0.196078           0.204082         0.234836        0.049261   \n",
       "4            0.160000           0.280000         0.219130        0.049005   \n",
       "\n",
       "    rank_test_score  \n",
       "15                1  \n",
       "11                2  \n",
       "6                 3  \n",
       "7                 4  \n",
       "2                 5  \n",
       "3                 6  \n",
       "1                 7  \n",
       "9                 8  \n",
       "10                9  \n",
       "14               10  \n",
       "5                11  \n",
       "13               12  \n",
       "12               13  \n",
       "0                14  \n",
       "8                15  \n",
       "4                16  "
      ]
     },
     "execution_count": 142,
     "metadata": {},
     "output_type": "execute_result"
    }
   ],
   "source": [
    "evaluation_grid= pd.DataFrame(search.cv_results_).sort_values('rank_test_score')\n",
    "evaluation_grid.drop(['mean_fit_time', 'std_fit_time', 'mean_score_time', 'std_score_time'], axis=1)"
   ]
  },
  {
   "cell_type": "markdown",
   "metadata": {},
   "source": [
    "### Evaluation of classifier "
   ]
  },
  {
   "cell_type": "code",
   "execution_count": 138,
   "metadata": {},
   "outputs": [
    {
     "data": {
      "text/plain": [
       "0.25396825396825395"
      ]
     },
     "execution_count": 138,
     "metadata": {},
     "output_type": "execute_result"
    }
   ],
   "source": [
    "from sklearn.metrics import f1_score, confusion_matrix\n",
    "best_clf = search.best_estimator_\n",
    "y_pred = best_clf.predict(X_test)\n",
    "f1_score(y_test, y_pred)\n"
   ]
  },
  {
   "cell_type": "code",
   "execution_count": 139,
   "metadata": {},
   "outputs": [
    {
     "data": {
      "text/html": [
       "<div>\n",
       "<style scoped>\n",
       "    .dataframe tbody tr th:only-of-type {\n",
       "        vertical-align: middle;\n",
       "    }\n",
       "\n",
       "    .dataframe tbody tr th {\n",
       "        vertical-align: top;\n",
       "    }\n",
       "\n",
       "    .dataframe thead th {\n",
       "        text-align: right;\n",
       "    }\n",
       "</style>\n",
       "<table border=\"1\" class=\"dataframe\">\n",
       "  <thead>\n",
       "    <tr style=\"text-align: right;\">\n",
       "      <th></th>\n",
       "      <th>normal</th>\n",
       "      <th>abnormal</th>\n",
       "    </tr>\n",
       "  </thead>\n",
       "  <tbody>\n",
       "    <tr>\n",
       "      <th>normal</th>\n",
       "      <td>218</td>\n",
       "      <td>9</td>\n",
       "    </tr>\n",
       "    <tr>\n",
       "      <th>abnormal</th>\n",
       "      <td>38</td>\n",
       "      <td>8</td>\n",
       "    </tr>\n",
       "  </tbody>\n",
       "</table>\n",
       "</div>"
      ],
      "text/plain": [
       "          normal  abnormal\n",
       "normal       218         9\n",
       "abnormal      38         8"
      ]
     },
     "execution_count": 139,
     "metadata": {},
     "output_type": "execute_result"
    }
   ],
   "source": [
    "pd.DataFrame(confusion_matrix(y_test, y_pred), columns=['normal', 'abnormal'], index= ['normal', 'abnormal'])"
   ]
  }
 ],
 "metadata": {
  "colab": {
   "collapsed_sections": [],
   "name": "assignment.ipynb",
   "provenance": []
  },
  "kernelspec": {
   "display_name": "Python 3",
   "language": "python",
   "name": "python3"
  },
  "language_info": {
   "codemirror_mode": {
    "name": "ipython",
    "version": 3
   },
   "file_extension": ".py",
   "mimetype": "text/x-python",
   "name": "python",
   "nbconvert_exporter": "python",
   "pygments_lexer": "ipython3",
   "version": "3.9.5"
  }
 },
 "nbformat": 4,
 "nbformat_minor": 1
}
