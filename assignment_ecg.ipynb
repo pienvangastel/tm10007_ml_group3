{
 "cells": [
  {
   "cell_type": "markdown",
   "metadata": {
    "colab_type": "text",
    "id": "7SXpaKwwGe5x"
   },
   "source": [
    "# TM10007 Assignment template -- ECG data"
   ]
  },
  {
   "cell_type": "markdown",
   "metadata": {},
   "source": [
    "## Data loading and cleaning\n",
    "\n",
    "Below are functions to load the dataset of your choice. After that, it is all up to you to create and evaluate a classification method. Beware, there may be missing values in these datasets. Good luck!"
   ]
  },
  {
   "cell_type": "markdown",
   "metadata": {},
   "source": [
    "### Load features and labels into dataframe from csv file "
   ]
  },
  {
   "cell_type": "code",
   "execution_count": 45,
   "metadata": {
    "colab": {
     "base_uri": "https://localhost:8080/",
     "height": 69
    },
    "colab_type": "code",
    "id": "CiDn2Sk-VWqE",
    "outputId": "64224cd2-6054-4b04-a3f6-af8290400dfc"
   },
   "outputs": [
    {
     "name": "stdout",
     "output_type": "stream",
     "text": [
      "The number of samples: 827\n",
      "The number of columns: 9001\n"
     ]
    }
   ],
   "source": [
    "import zipfile\n",
    "import os\n",
    "import pandas as pd\n",
    "\n",
    "with zipfile.ZipFile('./ecg/ecg_data.zip', 'r') as zip_ref:\n",
    "    zip_ref.extractall('./ecg/')\n",
    "\n",
    "data = pd.read_csv('./ecg/ecg_data.csv', index_col=0)\n",
    "\n",
    "file = './ecg/ecg_data.csv'\n",
    "if(os.path.exists(file) and os.path.isfile(file)):\n",
    "  os.remove(file)\n",
    "\n",
    "print(f'The number of samples: {len(data.index)}')\n",
    "print(f'The number of columns: {len(data.columns)}')"
   ]
  },
  {
   "cell_type": "markdown",
   "metadata": {},
   "source": [
    "### Create test-train split"
   ]
  },
  {
   "cell_type": "code",
   "execution_count": 46,
   "metadata": {},
   "outputs": [],
   "source": [
    "from sklearn.model_selection import train_test_split\n",
    "\n",
    "y = data.label\n",
    "X = data.drop('label', axis=1)\n",
    "\n",
    "# Need to find logical nubmers for test_size and random_state and add this in the report. \n",
    "X_train, X_test, y_train, y_test = train_test_split(\n",
    "    X, y, test_size=0.33, random_state=42)"
   ]
  },
  {
   "cell_type": "markdown",
   "metadata": {},
   "source": [
    "### Preprocessing"
   ]
  },
  {
   "cell_type": "code",
   "execution_count": 47,
   "metadata": {},
   "outputs": [],
   "source": [
    "from sklearn.pipeline import Pipeline, FeatureUnion\n",
    "from sklearn.preprocessing import StandardScaler, MinMaxScaler\n",
    "from sklearn.ensemble import RandomForestClassifier\n",
    "from sklearn.decomposition import PCA \n",
    "from sklearn.feature_selection import SelectKBest\n",
    "\n",
    "scaler = MinMaxScaler()\n",
    "random_forest = RandomForestClassifier()\n",
    "\n",
    "preprocess = FeatureUnion([('pca', PCA()), (\"kbest\", SelectKBest(k=5))])\n",
    "\n",
    "pipe = Pipeline(steps=[('scale', scaler), (\"kbest\", SelectKBest(k=100)), (\"random_forest\", random_forest)])"
   ]
  },
  {
   "cell_type": "markdown",
   "metadata": {},
   "source": [
    "### Gridsearch for optimal hyperparameters Random Forest Classifer "
   ]
  },
  {
   "cell_type": "code",
   "execution_count": 48,
   "metadata": {},
   "outputs": [
    {
     "name": "stdout",
     "output_type": "stream",
     "text": [
      "Fitting 3 folds for each of 8 candidates, totalling 24 fits\n",
      "[CV 1/3] END kbest__k=1, random_forest__n_estimators=50;, score=0.250 total time=   0.2s\n",
      "[CV 2/3] END kbest__k=1, random_forest__n_estimators=50;, score=0.206 total time=   0.2s\n",
      "[CV 3/3] END kbest__k=1, random_forest__n_estimators=50;, score=0.169 total time=   0.2s\n",
      "[CV 1/3] END kbest__k=1, random_forest__n_estimators=100;, score=0.245 total time=   0.3s\n",
      "[CV 2/3] END kbest__k=1, random_forest__n_estimators=100;, score=0.203 total time=   0.3s\n",
      "[CV 3/3] END kbest__k=1, random_forest__n_estimators=100;, score=0.169 total time=   0.3s\n",
      "[CV 1/3] END kbest__k=10, random_forest__n_estimators=50;, score=0.318 total time=   0.2s\n",
      "[CV 2/3] END kbest__k=10, random_forest__n_estimators=50;, score=0.429 total time=   0.2s\n",
      "[CV 3/3] END kbest__k=10, random_forest__n_estimators=50;, score=0.391 total time=   0.2s\n",
      "[CV 1/3] END kbest__k=10, random_forest__n_estimators=100;, score=0.318 total time=   0.3s\n",
      "[CV 2/3] END kbest__k=10, random_forest__n_estimators=100;, score=0.353 total time=   0.3s\n",
      "[CV 3/3] END kbest__k=10, random_forest__n_estimators=100;, score=0.417 total time=   0.3s\n",
      "[CV 1/3] END kbest__k=50, random_forest__n_estimators=50;, score=0.468 total time=   0.2s\n",
      "[CV 2/3] END kbest__k=50, random_forest__n_estimators=50;, score=0.308 total time=   0.3s\n",
      "[CV 3/3] END kbest__k=50, random_forest__n_estimators=50;, score=0.356 total time=   0.2s\n",
      "[CV 1/3] END kbest__k=50, random_forest__n_estimators=100;, score=0.489 total time=   0.3s\n",
      "[CV 2/3] END kbest__k=50, random_forest__n_estimators=100;, score=0.462 total time=   0.3s\n",
      "[CV 3/3] END kbest__k=50, random_forest__n_estimators=100;, score=0.200 total time=   0.3s\n",
      "[CV 1/3] END kbest__k=100, random_forest__n_estimators=50;, score=0.489 total time=   0.3s\n",
      "[CV 2/3] END kbest__k=100, random_forest__n_estimators=50;, score=0.353 total time=   0.3s\n",
      "[CV 3/3] END kbest__k=100, random_forest__n_estimators=50;, score=0.267 total time=   0.3s\n",
      "[CV 1/3] END kbest__k=100, random_forest__n_estimators=100;, score=0.511 total time=   0.4s\n",
      "[CV 2/3] END kbest__k=100, random_forest__n_estimators=100;, score=0.320 total time=   0.4s\n",
      "[CV 3/3] END kbest__k=100, random_forest__n_estimators=100;, score=0.279 total time=   0.4s\n"
     ]
    },
    {
     "data": {
      "text/plain": [
       "GridSearchCV(cv=3,\n",
       "             estimator=Pipeline(steps=[('scale', MinMaxScaler()),\n",
       "                                       ('kbest', SelectKBest(k=100)),\n",
       "                                       ('random_forest',\n",
       "                                        RandomForestClassifier())]),\n",
       "             param_grid={'kbest__k': [1, 10, 50, 100],\n",
       "                         'random_forest__n_estimators': [50, 100]},\n",
       "             scoring='f1', verbose=5)"
      ]
     },
     "execution_count": 48,
     "metadata": {},
     "output_type": "execute_result"
    }
   ],
   "source": [
    "from sklearn.model_selection import GridSearchCV\n",
    "\n",
    "parameters = {'random_forest__n_estimators': [50,100], 'kbest__k': [1, 10, 50, 100]}\n",
    "search = GridSearchCV(pipe, parameters, cv= 3, scoring = 'f1', verbose=5)\n",
    "search.fit(X_train, y_train)"
   ]
  },
  {
   "cell_type": "code",
   "execution_count": 49,
   "metadata": {},
   "outputs": [
    {
     "data": {
      "text/html": [
       "<div>\n",
       "<style scoped>\n",
       "    .dataframe tbody tr th:only-of-type {\n",
       "        vertical-align: middle;\n",
       "    }\n",
       "\n",
       "    .dataframe tbody tr th {\n",
       "        vertical-align: top;\n",
       "    }\n",
       "\n",
       "    .dataframe thead th {\n",
       "        text-align: right;\n",
       "    }\n",
       "</style>\n",
       "<table border=\"1\" class=\"dataframe\">\n",
       "  <thead>\n",
       "    <tr style=\"text-align: right;\">\n",
       "      <th></th>\n",
       "      <th>param_kbest__k</th>\n",
       "      <th>param_random_forest__n_estimators</th>\n",
       "      <th>params</th>\n",
       "      <th>split0_test_score</th>\n",
       "      <th>split1_test_score</th>\n",
       "      <th>split2_test_score</th>\n",
       "      <th>mean_test_score</th>\n",
       "      <th>std_test_score</th>\n",
       "      <th>rank_test_score</th>\n",
       "    </tr>\n",
       "  </thead>\n",
       "  <tbody>\n",
       "    <tr>\n",
       "      <th>5</th>\n",
       "      <td>50</td>\n",
       "      <td>100</td>\n",
       "      <td>{'kbest__k': 50, 'random_forest__n_estimators'...</td>\n",
       "      <td>0.488889</td>\n",
       "      <td>0.461538</td>\n",
       "      <td>0.200000</td>\n",
       "      <td>0.383476</td>\n",
       "      <td>0.130217</td>\n",
       "      <td>1</td>\n",
       "    </tr>\n",
       "    <tr>\n",
       "      <th>2</th>\n",
       "      <td>10</td>\n",
       "      <td>50</td>\n",
       "      <td>{'kbest__k': 10, 'random_forest__n_estimators'...</td>\n",
       "      <td>0.318182</td>\n",
       "      <td>0.428571</td>\n",
       "      <td>0.391304</td>\n",
       "      <td>0.379353</td>\n",
       "      <td>0.045852</td>\n",
       "      <td>2</td>\n",
       "    </tr>\n",
       "    <tr>\n",
       "      <th>4</th>\n",
       "      <td>50</td>\n",
       "      <td>50</td>\n",
       "      <td>{'kbest__k': 50, 'random_forest__n_estimators'...</td>\n",
       "      <td>0.468085</td>\n",
       "      <td>0.307692</td>\n",
       "      <td>0.355556</td>\n",
       "      <td>0.377111</td>\n",
       "      <td>0.067231</td>\n",
       "      <td>3</td>\n",
       "    </tr>\n",
       "    <tr>\n",
       "      <th>7</th>\n",
       "      <td>100</td>\n",
       "      <td>100</td>\n",
       "      <td>{'kbest__k': 100, 'random_forest__n_estimators...</td>\n",
       "      <td>0.510638</td>\n",
       "      <td>0.320000</td>\n",
       "      <td>0.279070</td>\n",
       "      <td>0.369903</td>\n",
       "      <td>0.100908</td>\n",
       "      <td>4</td>\n",
       "    </tr>\n",
       "    <tr>\n",
       "      <th>6</th>\n",
       "      <td>100</td>\n",
       "      <td>50</td>\n",
       "      <td>{'kbest__k': 100, 'random_forest__n_estimators...</td>\n",
       "      <td>0.488889</td>\n",
       "      <td>0.352941</td>\n",
       "      <td>0.266667</td>\n",
       "      <td>0.369499</td>\n",
       "      <td>0.091474</td>\n",
       "      <td>5</td>\n",
       "    </tr>\n",
       "    <tr>\n",
       "      <th>3</th>\n",
       "      <td>10</td>\n",
       "      <td>100</td>\n",
       "      <td>{'kbest__k': 10, 'random_forest__n_estimators'...</td>\n",
       "      <td>0.318182</td>\n",
       "      <td>0.352941</td>\n",
       "      <td>0.416667</td>\n",
       "      <td>0.362597</td>\n",
       "      <td>0.040782</td>\n",
       "      <td>6</td>\n",
       "    </tr>\n",
       "    <tr>\n",
       "      <th>0</th>\n",
       "      <td>1</td>\n",
       "      <td>50</td>\n",
       "      <td>{'kbest__k': 1, 'random_forest__n_estimators':...</td>\n",
       "      <td>0.250000</td>\n",
       "      <td>0.205882</td>\n",
       "      <td>0.169492</td>\n",
       "      <td>0.208458</td>\n",
       "      <td>0.032918</td>\n",
       "      <td>7</td>\n",
       "    </tr>\n",
       "    <tr>\n",
       "      <th>1</th>\n",
       "      <td>1</td>\n",
       "      <td>100</td>\n",
       "      <td>{'kbest__k': 1, 'random_forest__n_estimators':...</td>\n",
       "      <td>0.244898</td>\n",
       "      <td>0.202899</td>\n",
       "      <td>0.169492</td>\n",
       "      <td>0.205763</td>\n",
       "      <td>0.030851</td>\n",
       "      <td>8</td>\n",
       "    </tr>\n",
       "  </tbody>\n",
       "</table>\n",
       "</div>"
      ],
      "text/plain": [
       "  param_kbest__k param_random_forest__n_estimators  \\\n",
       "5             50                               100   \n",
       "2             10                                50   \n",
       "4             50                                50   \n",
       "7            100                               100   \n",
       "6            100                                50   \n",
       "3             10                               100   \n",
       "0              1                                50   \n",
       "1              1                               100   \n",
       "\n",
       "                                              params  split0_test_score  \\\n",
       "5  {'kbest__k': 50, 'random_forest__n_estimators'...           0.488889   \n",
       "2  {'kbest__k': 10, 'random_forest__n_estimators'...           0.318182   \n",
       "4  {'kbest__k': 50, 'random_forest__n_estimators'...           0.468085   \n",
       "7  {'kbest__k': 100, 'random_forest__n_estimators...           0.510638   \n",
       "6  {'kbest__k': 100, 'random_forest__n_estimators...           0.488889   \n",
       "3  {'kbest__k': 10, 'random_forest__n_estimators'...           0.318182   \n",
       "0  {'kbest__k': 1, 'random_forest__n_estimators':...           0.250000   \n",
       "1  {'kbest__k': 1, 'random_forest__n_estimators':...           0.244898   \n",
       "\n",
       "   split1_test_score  split2_test_score  mean_test_score  std_test_score  \\\n",
       "5           0.461538           0.200000         0.383476        0.130217   \n",
       "2           0.428571           0.391304         0.379353        0.045852   \n",
       "4           0.307692           0.355556         0.377111        0.067231   \n",
       "7           0.320000           0.279070         0.369903        0.100908   \n",
       "6           0.352941           0.266667         0.369499        0.091474   \n",
       "3           0.352941           0.416667         0.362597        0.040782   \n",
       "0           0.205882           0.169492         0.208458        0.032918   \n",
       "1           0.202899           0.169492         0.205763        0.030851   \n",
       "\n",
       "   rank_test_score  \n",
       "5                1  \n",
       "2                2  \n",
       "4                3  \n",
       "7                4  \n",
       "6                5  \n",
       "3                6  \n",
       "0                7  \n",
       "1                8  "
      ]
     },
     "execution_count": 49,
     "metadata": {},
     "output_type": "execute_result"
    }
   ],
   "source": [
    "evaluation_grid= pd.DataFrame(search.cv_results_).sort_values('rank_test_score')\n",
    "evaluation_grid.drop(['mean_fit_time', 'std_fit_time', 'mean_score_time', 'std_score_time'], axis=1)"
   ]
  },
  {
   "cell_type": "markdown",
   "metadata": {},
   "source": [
    "### Evaluation of classifier "
   ]
  },
  {
   "cell_type": "code",
   "execution_count": 50,
   "metadata": {},
   "outputs": [
    {
     "data": {
      "text/plain": [
       "0.34375"
      ]
     },
     "execution_count": 50,
     "metadata": {},
     "output_type": "execute_result"
    }
   ],
   "source": [
    "from sklearn.metrics import f1_score, confusion_matrix\n",
    "best_clf = search.best_estimator_\n",
    "y_pred = best_clf.predict(X_test)\n",
    "f1_score(y_test, y_pred)\n"
   ]
  },
  {
   "cell_type": "code",
   "execution_count": 51,
   "metadata": {},
   "outputs": [
    {
     "data": {
      "text/html": [
       "<div>\n",
       "<style scoped>\n",
       "    .dataframe tbody tr th:only-of-type {\n",
       "        vertical-align: middle;\n",
       "    }\n",
       "\n",
       "    .dataframe tbody tr th {\n",
       "        vertical-align: top;\n",
       "    }\n",
       "\n",
       "    .dataframe thead th {\n",
       "        text-align: right;\n",
       "    }\n",
       "</style>\n",
       "<table border=\"1\" class=\"dataframe\">\n",
       "  <thead>\n",
       "    <tr style=\"text-align: right;\">\n",
       "      <th></th>\n",
       "      <th>normal</th>\n",
       "      <th>abnormal</th>\n",
       "    </tr>\n",
       "  </thead>\n",
       "  <tbody>\n",
       "    <tr>\n",
       "      <th>normal</th>\n",
       "      <td>220</td>\n",
       "      <td>7</td>\n",
       "    </tr>\n",
       "    <tr>\n",
       "      <th>abnormal</th>\n",
       "      <td>35</td>\n",
       "      <td>11</td>\n",
       "    </tr>\n",
       "  </tbody>\n",
       "</table>\n",
       "</div>"
      ],
      "text/plain": [
       "          normal  abnormal\n",
       "normal       220         7\n",
       "abnormal      35        11"
      ]
     },
     "execution_count": 51,
     "metadata": {},
     "output_type": "execute_result"
    }
   ],
   "source": [
    "pd.DataFrame(confusion_matrix(y_test, y_pred), columns=['normal', 'abnormal'], index= ['normal', 'abnormal'])"
   ]
  },
  {
   "cell_type": "code",
   "execution_count": null,
   "metadata": {},
   "outputs": [],
   "source": []
  },
  {
   "cell_type": "code",
   "execution_count": 16,
   "metadata": {},
   "outputs": [
    {
     "data": {
      "text/plain": [
       "[<matplotlib.lines.Line2D at 0x7fc49bdcb2b0>]"
      ]
     },
     "execution_count": 16,
     "metadata": {},
     "output_type": "execute_result"
    },
    {
     "data": {
      "image/png": "[encoded data removed]",
      "text/plain": [
       "<Figure size 432x288 with 1 Axes>"
      ]
     },
     "metadata": {
      "needs_background": "light"
     },
     "output_type": "display_data"
    }
   ],
   "source": [
    "import matplotlib.pyplot as plt\n",
    "plt.plot(data.iloc[0,:])"
   ]
  },
  {
   "cell_type": "code",
   "execution_count": null,
   "metadata": {},
   "outputs": [],
   "source": []
  }
 ],
 "metadata": {
  "colab": {
   "collapsed_sections": [],
   "name": "assignment.ipynb",
   "provenance": []
  },
  "kernelspec": {
   "display_name": "Python 3",
   "language": "python",
   "name": "python3"
  },
  "language_info": {
   "codemirror_mode": {
    "name": "ipython",
    "version": 3
   },
   "file_extension": ".py",
   "mimetype": "text/x-python",
   "name": "python",
   "nbconvert_exporter": "python",
   "pygments_lexer": "ipython3",
   "version": "3.9.7"
  }
 },
 "nbformat": 4,
 "nbformat_minor": 1
}
