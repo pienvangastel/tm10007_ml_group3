{
 "cells": [
  {
   "cell_type": "markdown",
   "metadata": {
    "colab_type": "text",
    "id": "7SXpaKwwGe5x"
   },
   "source": [
    "# TM10007 Assignment template -- ECG data"
   ]
  },
  {
   "cell_type": "markdown",
   "metadata": {},
   "source": [
    "## Data loading and cleaning\n",
    "\n",
    "Below are functions to load the dataset of your choice. After that, it is all up to you to create and evaluate a classification method. Beware, there may be missing values in these datasets. Good luck!"
   ]
  },
  {
   "cell_type": "markdown",
   "metadata": {},
   "source": [
    "### Load features and labels into dataframe from csv file "
   ]
  },
  {
   "cell_type": "code",
   "execution_count": 3,
   "metadata": {
    "colab": {
     "base_uri": "https://localhost:8080/",
     "height": 69
    },
    "colab_type": "code",
    "id": "CiDn2Sk-VWqE",
    "outputId": "64224cd2-6054-4b04-a3f6-af8290400dfc"
   },
   "outputs": [
    {
     "name": "stdout",
     "output_type": "stream",
     "text": [
      "The number of samples: 827\n",
      "The number of columns: 9001\n"
     ]
    }
   ],
   "source": [
    "import zipfile\n",
    "import os\n",
    "import pandas as pd\n",
    "\n",
    "with zipfile.ZipFile('./ecg/ecg_data.zip', 'r') as zip_ref:\n",
    "    zip_ref.extractall('./ecg/')\n",
    "\n",
    "data = pd.read_csv('./ecg/ecg_data.csv', index_col=0)\n",
    "\n",
    "file = './ecg/ecg_data.csv'\n",
    "if(os.path.exists(file) and os.path.isfile(file)):\n",
    "  os.remove(file)\n",
    "\n",
    "print(f'The number of samples: {len(data.index)}')\n",
    "print(f'The number of columns: {len(data.columns)}')"
   ]
  },
  {
   "cell_type": "markdown",
   "metadata": {},
   "source": [
    "### Create test-train split"
   ]
  },
  {
   "cell_type": "code",
   "execution_count": 5,
   "metadata": {},
   "outputs": [],
   "source": [
    "from sklearn.model_selection import train_test_split\n",
    "\n",
    "y = data.label\n",
    "X = data.drop('label', axis=1)\n",
    "\n",
    "# Need to find logical nubmers for test_size and random_state and add this in the report. \n",
    "X_train, X_test, y_train, y_test = train_test_split(\n",
    "    X, y, test_size=0.3, random_state=42)"
   ]
  },
  {
   "cell_type": "markdown",
   "metadata": {},
   "source": [
    "### Preprocessing"
   ]
  },
  {
   "cell_type": "code",
   "execution_count": 31,
   "metadata": {},
   "outputs": [],
   "source": [
    "from sklearn.pipeline import Pipeline, FeatureUnion\n",
    "from sklearn.preprocessing import StandardScaler, MinMaxScaler, Normalizer\n",
    "from sklearn.ensemble import RandomForestClassifier\n",
    "from sklearn.decomposition import PCA \n",
    "from sklearn.feature_selection import SelectKBest, chi2, SequentialFeatureSelector\n",
    "from sklearn.naive_bayes import GaussianNB\n",
    "from sklearn.manifold import TSNE\n",
    "\n",
    "scaler = Normalizer()\n",
    "random_forest = RandomForestClassifier()\n",
    "pca = PCA()\n",
    "\n",
    "# \"greedy_featureselection\", SequentialFeatureSelector(estimator = random_forest, n_features_to_select=10, cv=2, n_jobs=-1))\n",
    "#\n",
    "pipe = Pipeline(steps=[('select', SelectKBest()), (\"random_forest\", random_forest)])"
   ]
  },
  {
   "cell_type": "markdown",
   "metadata": {},
   "source": [
    "### Gridsearch for optimal hyperparameters Random Forest Classifer "
   ]
  },
  {
   "cell_type": "code",
   "execution_count": 32,
   "metadata": {},
   "outputs": [
    {
     "name": "stdout",
     "output_type": "stream",
     "text": [
      "Fitting 5 folds for each of 16 candidates, totalling 80 fits\n",
      "[CV 1/5] END random_forest__n_estimators=50, select__k=2;, score=0.154 total time=   4.2s\n",
      "[CV 2/5] END random_forest__n_estimators=50, select__k=2;, score=0.286 total time=   4.0s\n",
      "[CV 3/5] END random_forest__n_estimators=50, select__k=2;, score=0.176 total time=   4.0s\n",
      "[CV 4/5] END random_forest__n_estimators=50, select__k=2;, score=0.069 total time=   2.7s\n",
      "[CV 5/5] END random_forest__n_estimators=50, select__k=2;, score=0.242 total time=   3.1s\n",
      "[CV 1/5] END random_forest__n_estimators=50, select__k=5;, score=0.276 total time=   2.5s\n",
      "[CV 2/5] END random_forest__n_estimators=50, select__k=5;, score=0.286 total time=   2.9s\n",
      "[CV 3/5] END random_forest__n_estimators=50, select__k=5;, score=0.432 total time=   2.6s\n",
      "[CV 4/5] END random_forest__n_estimators=50, select__k=5;, score=0.125 total time=   2.6s\n",
      "[CV 5/5] END random_forest__n_estimators=50, select__k=5;, score=0.214 total time=   2.1s\n",
      "[CV 1/5] END random_forest__n_estimators=50, select__k=10;, score=0.187 total time=   2.2s\n",
      "[CV 2/5] END random_forest__n_estimators=50, select__k=10;, score=0.323 total time=   2.1s\n",
      "[CV 3/5] END random_forest__n_estimators=50, select__k=10;, score=0.316 total time=   2.0s\n",
      "[CV 4/5] END random_forest__n_estimators=50, select__k=10;, score=0.069 total time=   2.3s\n",
      "[CV 5/5] END random_forest__n_estimators=50, select__k=10;, score=0.562 total time=   3.5s\n",
      "[CV 1/5] END random_forest__n_estimators=50, select__k=20;, score=0.267 total time=   4.0s\n",
      "[CV 2/5] END random_forest__n_estimators=50, select__k=20;, score=0.387 total time=   2.4s\n",
      "[CV 3/5] END random_forest__n_estimators=50, select__k=20;, score=0.400 total time=   3.1s\n",
      "[CV 4/5] END random_forest__n_estimators=50, select__k=20;, score=0.242 total time=   2.5s\n",
      "[CV 5/5] END random_forest__n_estimators=50, select__k=20;, score=0.286 total time=   2.7s\n",
      "[CV 1/5] END random_forest__n_estimators=100, select__k=2;, score=0.222 total time=   4.7s\n",
      "[CV 2/5] END random_forest__n_estimators=100, select__k=2;, score=0.308 total time=   3.0s\n",
      "[CV 3/5] END random_forest__n_estimators=100, select__k=2;, score=0.278 total time=   3.3s\n",
      "[CV 4/5] END random_forest__n_estimators=100, select__k=2;, score=0.187 total time=   3.1s\n",
      "[CV 5/5] END random_forest__n_estimators=100, select__k=2;, score=0.294 total time=   2.4s\n",
      "[CV 1/5] END random_forest__n_estimators=100, select__k=5;, score=0.286 total time=   2.5s\n",
      "[CV 2/5] END random_forest__n_estimators=100, select__k=5;, score=0.286 total time=   2.4s\n",
      "[CV 3/5] END random_forest__n_estimators=100, select__k=5;, score=0.389 total time=   2.5s\n",
      "[CV 4/5] END random_forest__n_estimators=100, select__k=5;, score=0.065 total time=   2.5s\n",
      "[CV 5/5] END random_forest__n_estimators=100, select__k=5;, score=0.200 total time=   2.9s\n",
      "[CV 1/5] END random_forest__n_estimators=100, select__k=10;, score=0.250 total time=   2.5s\n",
      "[CV 2/5] END random_forest__n_estimators=100, select__k=10;, score=0.286 total time=   2.6s\n",
      "[CV 3/5] END random_forest__n_estimators=100, select__k=10;, score=0.270 total time=   2.8s\n",
      "[CV 4/5] END random_forest__n_estimators=100, select__k=10;, score=0.133 total time=   3.1s\n",
      "[CV 5/5] END random_forest__n_estimators=100, select__k=10;, score=0.500 total time=   3.0s\n",
      "[CV 1/5] END random_forest__n_estimators=100, select__k=20;, score=0.333 total time=   2.6s\n",
      "[CV 2/5] END random_forest__n_estimators=100, select__k=20;, score=0.345 total time=   2.5s\n",
      "[CV 3/5] END random_forest__n_estimators=100, select__k=20;, score=0.364 total time=   2.6s\n",
      "[CV 4/5] END random_forest__n_estimators=100, select__k=20;, score=0.258 total time=   3.2s\n",
      "[CV 5/5] END random_forest__n_estimators=100, select__k=20;, score=0.276 total time=   3.2s\n",
      "[CV 1/5] END random_forest__n_estimators=500, select__k=2;, score=0.167 total time=   9.3s\n",
      "[CV 2/5] END random_forest__n_estimators=500, select__k=2;, score=0.296 total time=   8.5s\n",
      "[CV 3/5] END random_forest__n_estimators=500, select__k=2;, score=0.216 total time=  10.5s\n",
      "[CV 4/5] END random_forest__n_estimators=500, select__k=2;, score=0.194 total time=   6.9s\n",
      "[CV 5/5] END random_forest__n_estimators=500, select__k=2;, score=0.303 total time=   6.0s\n",
      "[CV 1/5] END random_forest__n_estimators=500, select__k=5;, score=0.296 total time=   6.6s\n",
      "[CV 2/5] END random_forest__n_estimators=500, select__k=5;, score=0.286 total time=   8.4s\n",
      "[CV 3/5] END random_forest__n_estimators=500, select__k=5;, score=0.389 total time=   9.6s\n",
      "[CV 4/5] END random_forest__n_estimators=500, select__k=5;, score=0.062 total time=   8.8s\n",
      "[CV 5/5] END random_forest__n_estimators=500, select__k=5;, score=0.276 total time=   9.4s\n",
      "[CV 1/5] END random_forest__n_estimators=500, select__k=10;, score=0.258 total time=   7.9s\n",
      "[CV 2/5] END random_forest__n_estimators=500, select__k=10;, score=0.333 total time=  10.6s\n",
      "[CV 3/5] END random_forest__n_estimators=500, select__k=10;, score=0.333 total time=  10.4s\n",
      "[CV 4/5] END random_forest__n_estimators=500, select__k=10;, score=0.129 total time=  11.1s\n",
      "[CV 5/5] END random_forest__n_estimators=500, select__k=10;, score=0.467 total time=   9.5s\n",
      "[CV 1/5] END random_forest__n_estimators=500, select__k=20;, score=0.323 total time=   9.2s\n",
      "[CV 2/5] END random_forest__n_estimators=500, select__k=20;, score=0.345 total time=   7.3s\n",
      "[CV 3/5] END random_forest__n_estimators=500, select__k=20;, score=0.389 total time=   8.0s\n",
      "[CV 4/5] END random_forest__n_estimators=500, select__k=20;, score=0.258 total time=  10.2s\n",
      "[CV 5/5] END random_forest__n_estimators=500, select__k=20;, score=0.286 total time=  10.5s\n",
      "[CV 1/5] END random_forest__n_estimators=1000, select__k=2;, score=0.160 total time=  15.6s\n",
      "[CV 2/5] END random_forest__n_estimators=1000, select__k=2;, score=0.296 total time=  15.4s\n",
      "[CV 3/5] END random_forest__n_estimators=1000, select__k=2;, score=0.263 total time=  16.8s\n",
      "[CV 4/5] END random_forest__n_estimators=1000, select__k=2;, score=0.129 total time=  17.5s\n",
      "[CV 5/5] END random_forest__n_estimators=1000, select__k=2;, score=0.303 total time=  24.2s\n",
      "[CV 1/5] END random_forest__n_estimators=1000, select__k=5;, score=0.286 total time=  24.5s\n",
      "[CV 2/5] END random_forest__n_estimators=1000, select__k=5;, score=0.286 total time=  20.9s\n",
      "[CV 3/5] END random_forest__n_estimators=1000, select__k=5;, score=0.389 total time=  17.1s\n",
      "[CV 4/5] END random_forest__n_estimators=1000, select__k=5;, score=0.062 total time=  16.4s\n",
      "[CV 5/5] END random_forest__n_estimators=1000, select__k=5;, score=0.323 total time=  11.6s\n",
      "[CV 1/5] END random_forest__n_estimators=1000, select__k=10;, score=0.258 total time=  13.0s\n",
      "[CV 2/5] END random_forest__n_estimators=1000, select__k=10;, score=0.333 total time=   9.9s\n",
      "[CV 3/5] END random_forest__n_estimators=1000, select__k=10;, score=0.368 total time=   7.1s\n",
      "[CV 4/5] END random_forest__n_estimators=1000, select__k=10;, score=0.067 total time=   7.3s\n",
      "[CV 5/5] END random_forest__n_estimators=1000, select__k=10;, score=0.452 total time=   8.1s\n",
      "[CV 1/5] END random_forest__n_estimators=1000, select__k=20;, score=0.333 total time=   8.3s\n",
      "[CV 2/5] END random_forest__n_estimators=1000, select__k=20;, score=0.333 total time=   8.1s\n",
      "[CV 3/5] END random_forest__n_estimators=1000, select__k=20;, score=0.412 total time=   8.2s\n",
      "[CV 4/5] END random_forest__n_estimators=1000, select__k=20;, score=0.258 total time=   7.8s\n",
      "[CV 5/5] END random_forest__n_estimators=1000, select__k=20;, score=0.286 total time=   7.9s\n"
     ]
    },
    {
     "data": {
      "text/plain": [
       "GridSearchCV(cv=5,\n",
       "             estimator=Pipeline(steps=[('select', SelectKBest()),\n",
       "                                       ('random_forest',\n",
       "                                        RandomForestClassifier())]),\n",
       "             param_grid={'random_forest__n_estimators': [50, 100, 500, 1000],\n",
       "                         'select__k': [2, 5, 10, 20]},\n",
       "             scoring='f1', verbose=5)"
      ]
     },
     "execution_count": 32,
     "metadata": {},
     "output_type": "execute_result"
    }
   ],
   "source": [
    "from sklearn.model_selection import GridSearchCV\n",
    "\n",
    "parameters = {'select__k': [2, 5, 10, 20], 'random_forest__n_estimators': [50,100, 500, 1000]}\n",
    "search = GridSearchCV(pipe, parameters, cv=5, scoring = 'f1', verbose=5)\n",
    "search.fit(X_train, y_train)"
   ]
  },
  {
   "cell_type": "code",
   "execution_count": 33,
   "metadata": {},
   "outputs": [
    {
     "data": {
      "text/html": [
       "<div>\n",
       "<style scoped>\n",
       "    .dataframe tbody tr th:only-of-type {\n",
       "        vertical-align: middle;\n",
       "    }\n",
       "\n",
       "    .dataframe tbody tr th {\n",
       "        vertical-align: top;\n",
       "    }\n",
       "\n",
       "    .dataframe thead th {\n",
       "        text-align: right;\n",
       "    }\n",
       "</style>\n",
       "<table border=\"1\" class=\"dataframe\">\n",
       "  <thead>\n",
       "    <tr style=\"text-align: right;\">\n",
       "      <th></th>\n",
       "      <th>param_random_forest__n_estimators</th>\n",
       "      <th>param_select__k</th>\n",
       "      <th>params</th>\n",
       "      <th>split0_test_score</th>\n",
       "      <th>split1_test_score</th>\n",
       "      <th>split2_test_score</th>\n",
       "      <th>split3_test_score</th>\n",
       "      <th>split4_test_score</th>\n",
       "      <th>mean_test_score</th>\n",
       "      <th>std_test_score</th>\n",
       "      <th>rank_test_score</th>\n",
       "    </tr>\n",
       "  </thead>\n",
       "  <tbody>\n",
       "    <tr>\n",
       "      <th>15</th>\n",
       "      <td>1000</td>\n",
       "      <td>20</td>\n",
       "      <td>{'random_forest__n_estimators': 1000, 'select_...</td>\n",
       "      <td>0.333333</td>\n",
       "      <td>0.333333</td>\n",
       "      <td>0.411765</td>\n",
       "      <td>0.258065</td>\n",
       "      <td>0.285714</td>\n",
       "      <td>0.324442</td>\n",
       "      <td>0.052324</td>\n",
       "      <td>1</td>\n",
       "    </tr>\n",
       "    <tr>\n",
       "      <th>11</th>\n",
       "      <td>500</td>\n",
       "      <td>20</td>\n",
       "      <td>{'random_forest__n_estimators': 500, 'select__...</td>\n",
       "      <td>0.322581</td>\n",
       "      <td>0.344828</td>\n",
       "      <td>0.388889</td>\n",
       "      <td>0.258065</td>\n",
       "      <td>0.285714</td>\n",
       "      <td>0.320015</td>\n",
       "      <td>0.045564</td>\n",
       "      <td>2</td>\n",
       "    </tr>\n",
       "    <tr>\n",
       "      <th>3</th>\n",
       "      <td>50</td>\n",
       "      <td>20</td>\n",
       "      <td>{'random_forest__n_estimators': 50, 'select__k...</td>\n",
       "      <td>0.266667</td>\n",
       "      <td>0.387097</td>\n",
       "      <td>0.400000</td>\n",
       "      <td>0.242424</td>\n",
       "      <td>0.285714</td>\n",
       "      <td>0.316380</td>\n",
       "      <td>0.064613</td>\n",
       "      <td>3</td>\n",
       "    </tr>\n",
       "    <tr>\n",
       "      <th>7</th>\n",
       "      <td>100</td>\n",
       "      <td>20</td>\n",
       "      <td>{'random_forest__n_estimators': 100, 'select__...</td>\n",
       "      <td>0.333333</td>\n",
       "      <td>0.344828</td>\n",
       "      <td>0.363636</td>\n",
       "      <td>0.258065</td>\n",
       "      <td>0.275862</td>\n",
       "      <td>0.315145</td>\n",
       "      <td>0.040901</td>\n",
       "      <td>4</td>\n",
       "    </tr>\n",
       "    <tr>\n",
       "      <th>10</th>\n",
       "      <td>500</td>\n",
       "      <td>10</td>\n",
       "      <td>{'random_forest__n_estimators': 500, 'select__...</td>\n",
       "      <td>0.258065</td>\n",
       "      <td>0.333333</td>\n",
       "      <td>0.333333</td>\n",
       "      <td>0.129032</td>\n",
       "      <td>0.466667</td>\n",
       "      <td>0.304086</td>\n",
       "      <td>0.110368</td>\n",
       "      <td>5</td>\n",
       "    </tr>\n",
       "    <tr>\n",
       "      <th>14</th>\n",
       "      <td>1000</td>\n",
       "      <td>10</td>\n",
       "      <td>{'random_forest__n_estimators': 1000, 'select_...</td>\n",
       "      <td>0.258065</td>\n",
       "      <td>0.333333</td>\n",
       "      <td>0.368421</td>\n",
       "      <td>0.066667</td>\n",
       "      <td>0.451613</td>\n",
       "      <td>0.295620</td>\n",
       "      <td>0.130297</td>\n",
       "      <td>6</td>\n",
       "    </tr>\n",
       "    <tr>\n",
       "      <th>2</th>\n",
       "      <td>50</td>\n",
       "      <td>10</td>\n",
       "      <td>{'random_forest__n_estimators': 50, 'select__k...</td>\n",
       "      <td>0.187500</td>\n",
       "      <td>0.322581</td>\n",
       "      <td>0.315789</td>\n",
       "      <td>0.068966</td>\n",
       "      <td>0.562500</td>\n",
       "      <td>0.291467</td>\n",
       "      <td>0.164520</td>\n",
       "      <td>7</td>\n",
       "    </tr>\n",
       "    <tr>\n",
       "      <th>6</th>\n",
       "      <td>100</td>\n",
       "      <td>10</td>\n",
       "      <td>{'random_forest__n_estimators': 100, 'select__...</td>\n",
       "      <td>0.250000</td>\n",
       "      <td>0.285714</td>\n",
       "      <td>0.270270</td>\n",
       "      <td>0.133333</td>\n",
       "      <td>0.500000</td>\n",
       "      <td>0.287864</td>\n",
       "      <td>0.118852</td>\n",
       "      <td>8</td>\n",
       "    </tr>\n",
       "    <tr>\n",
       "      <th>13</th>\n",
       "      <td>1000</td>\n",
       "      <td>5</td>\n",
       "      <td>{'random_forest__n_estimators': 1000, 'select_...</td>\n",
       "      <td>0.285714</td>\n",
       "      <td>0.285714</td>\n",
       "      <td>0.388889</td>\n",
       "      <td>0.062500</td>\n",
       "      <td>0.322581</td>\n",
       "      <td>0.269080</td>\n",
       "      <td>0.109950</td>\n",
       "      <td>9</td>\n",
       "    </tr>\n",
       "    <tr>\n",
       "      <th>1</th>\n",
       "      <td>50</td>\n",
       "      <td>5</td>\n",
       "      <td>{'random_forest__n_estimators': 50, 'select__k...</td>\n",
       "      <td>0.275862</td>\n",
       "      <td>0.285714</td>\n",
       "      <td>0.432432</td>\n",
       "      <td>0.125000</td>\n",
       "      <td>0.214286</td>\n",
       "      <td>0.266659</td>\n",
       "      <td>0.100736</td>\n",
       "      <td>10</td>\n",
       "    </tr>\n",
       "    <tr>\n",
       "      <th>9</th>\n",
       "      <td>500</td>\n",
       "      <td>5</td>\n",
       "      <td>{'random_forest__n_estimators': 500, 'select__...</td>\n",
       "      <td>0.296296</td>\n",
       "      <td>0.285714</td>\n",
       "      <td>0.388889</td>\n",
       "      <td>0.062500</td>\n",
       "      <td>0.275862</td>\n",
       "      <td>0.261852</td>\n",
       "      <td>0.107547</td>\n",
       "      <td>11</td>\n",
       "    </tr>\n",
       "    <tr>\n",
       "      <th>4</th>\n",
       "      <td>100</td>\n",
       "      <td>2</td>\n",
       "      <td>{'random_forest__n_estimators': 100, 'select__...</td>\n",
       "      <td>0.222222</td>\n",
       "      <td>0.307692</td>\n",
       "      <td>0.277778</td>\n",
       "      <td>0.187500</td>\n",
       "      <td>0.294118</td>\n",
       "      <td>0.257862</td>\n",
       "      <td>0.045640</td>\n",
       "      <td>12</td>\n",
       "    </tr>\n",
       "    <tr>\n",
       "      <th>5</th>\n",
       "      <td>100</td>\n",
       "      <td>5</td>\n",
       "      <td>{'random_forest__n_estimators': 100, 'select__...</td>\n",
       "      <td>0.285714</td>\n",
       "      <td>0.285714</td>\n",
       "      <td>0.388889</td>\n",
       "      <td>0.064516</td>\n",
       "      <td>0.200000</td>\n",
       "      <td>0.244967</td>\n",
       "      <td>0.108276</td>\n",
       "      <td>13</td>\n",
       "    </tr>\n",
       "    <tr>\n",
       "      <th>8</th>\n",
       "      <td>500</td>\n",
       "      <td>2</td>\n",
       "      <td>{'random_forest__n_estimators': 500, 'select__...</td>\n",
       "      <td>0.166667</td>\n",
       "      <td>0.296296</td>\n",
       "      <td>0.216216</td>\n",
       "      <td>0.193548</td>\n",
       "      <td>0.303030</td>\n",
       "      <td>0.235152</td>\n",
       "      <td>0.055001</td>\n",
       "      <td>14</td>\n",
       "    </tr>\n",
       "    <tr>\n",
       "      <th>12</th>\n",
       "      <td>1000</td>\n",
       "      <td>2</td>\n",
       "      <td>{'random_forest__n_estimators': 1000, 'select_...</td>\n",
       "      <td>0.160000</td>\n",
       "      <td>0.296296</td>\n",
       "      <td>0.263158</td>\n",
       "      <td>0.129032</td>\n",
       "      <td>0.303030</td>\n",
       "      <td>0.230303</td>\n",
       "      <td>0.072003</td>\n",
       "      <td>15</td>\n",
       "    </tr>\n",
       "    <tr>\n",
       "      <th>0</th>\n",
       "      <td>50</td>\n",
       "      <td>2</td>\n",
       "      <td>{'random_forest__n_estimators': 50, 'select__k...</td>\n",
       "      <td>0.153846</td>\n",
       "      <td>0.285714</td>\n",
       "      <td>0.176471</td>\n",
       "      <td>0.068966</td>\n",
       "      <td>0.242424</td>\n",
       "      <td>0.185484</td>\n",
       "      <td>0.074762</td>\n",
       "      <td>16</td>\n",
       "    </tr>\n",
       "  </tbody>\n",
       "</table>\n",
       "</div>"
      ],
      "text/plain": [
       "   param_random_forest__n_estimators param_select__k  \\\n",
       "15                              1000              20   \n",
       "11                               500              20   \n",
       "3                                 50              20   \n",
       "7                                100              20   \n",
       "10                               500              10   \n",
       "14                              1000              10   \n",
       "2                                 50              10   \n",
       "6                                100              10   \n",
       "13                              1000               5   \n",
       "1                                 50               5   \n",
       "9                                500               5   \n",
       "4                                100               2   \n",
       "5                                100               5   \n",
       "8                                500               2   \n",
       "12                              1000               2   \n",
       "0                                 50               2   \n",
       "\n",
       "                                               params  split0_test_score  \\\n",
       "15  {'random_forest__n_estimators': 1000, 'select_...           0.333333   \n",
       "11  {'random_forest__n_estimators': 500, 'select__...           0.322581   \n",
       "3   {'random_forest__n_estimators': 50, 'select__k...           0.266667   \n",
       "7   {'random_forest__n_estimators': 100, 'select__...           0.333333   \n",
       "10  {'random_forest__n_estimators': 500, 'select__...           0.258065   \n",
       "14  {'random_forest__n_estimators': 1000, 'select_...           0.258065   \n",
       "2   {'random_forest__n_estimators': 50, 'select__k...           0.187500   \n",
       "6   {'random_forest__n_estimators': 100, 'select__...           0.250000   \n",
       "13  {'random_forest__n_estimators': 1000, 'select_...           0.285714   \n",
       "1   {'random_forest__n_estimators': 50, 'select__k...           0.275862   \n",
       "9   {'random_forest__n_estimators': 500, 'select__...           0.296296   \n",
       "4   {'random_forest__n_estimators': 100, 'select__...           0.222222   \n",
       "5   {'random_forest__n_estimators': 100, 'select__...           0.285714   \n",
       "8   {'random_forest__n_estimators': 500, 'select__...           0.166667   \n",
       "12  {'random_forest__n_estimators': 1000, 'select_...           0.160000   \n",
       "0   {'random_forest__n_estimators': 50, 'select__k...           0.153846   \n",
       "\n",
       "    split1_test_score  split2_test_score  split3_test_score  \\\n",
       "15           0.333333           0.411765           0.258065   \n",
       "11           0.344828           0.388889           0.258065   \n",
       "3            0.387097           0.400000           0.242424   \n",
       "7            0.344828           0.363636           0.258065   \n",
       "10           0.333333           0.333333           0.129032   \n",
       "14           0.333333           0.368421           0.066667   \n",
       "2            0.322581           0.315789           0.068966   \n",
       "6            0.285714           0.270270           0.133333   \n",
       "13           0.285714           0.388889           0.062500   \n",
       "1            0.285714           0.432432           0.125000   \n",
       "9            0.285714           0.388889           0.062500   \n",
       "4            0.307692           0.277778           0.187500   \n",
       "5            0.285714           0.388889           0.064516   \n",
       "8            0.296296           0.216216           0.193548   \n",
       "12           0.296296           0.263158           0.129032   \n",
       "0            0.285714           0.176471           0.068966   \n",
       "\n",
       "    split4_test_score  mean_test_score  std_test_score  rank_test_score  \n",
       "15           0.285714         0.324442        0.052324                1  \n",
       "11           0.285714         0.320015        0.045564                2  \n",
       "3            0.285714         0.316380        0.064613                3  \n",
       "7            0.275862         0.315145        0.040901                4  \n",
       "10           0.466667         0.304086        0.110368                5  \n",
       "14           0.451613         0.295620        0.130297                6  \n",
       "2            0.562500         0.291467        0.164520                7  \n",
       "6            0.500000         0.287864        0.118852                8  \n",
       "13           0.322581         0.269080        0.109950                9  \n",
       "1            0.214286         0.266659        0.100736               10  \n",
       "9            0.275862         0.261852        0.107547               11  \n",
       "4            0.294118         0.257862        0.045640               12  \n",
       "5            0.200000         0.244967        0.108276               13  \n",
       "8            0.303030         0.235152        0.055001               14  \n",
       "12           0.303030         0.230303        0.072003               15  \n",
       "0            0.242424         0.185484        0.074762               16  "
      ]
     },
     "execution_count": 33,
     "metadata": {},
     "output_type": "execute_result"
    }
   ],
   "source": [
    "evaluation_grid= pd.DataFrame(search.cv_results_).sort_values('rank_test_score')\n",
    "evaluation_grid.drop(['mean_fit_time', 'std_fit_time', 'mean_score_time', 'std_score_time'], axis=1)"
   ]
  },
  {
   "cell_type": "markdown",
   "metadata": {},
   "source": [
    "### Complexity - Learning Curve"
   ]
  },
  {
   "cell_type": "code",
   "execution_count": 7,
   "metadata": {},
   "outputs": [],
   "source": [
    "from sklearn.model_selection import learning_curve\n",
    "from sklearn.ensemble import RandomForestClassifier\n",
    "\n",
    "clf = RandomForestClassifier()\n"
   ]
  },
  {
   "cell_type": "code",
   "execution_count": 9,
   "metadata": {},
   "outputs": [
    {
     "name": "stdout",
     "output_type": "stream",
     "text": [
      "[learning_curve] Training set sizes: [ 66 214 363 512 661]\n"
     ]
    },
    {
     "name": "stderr",
     "output_type": "stream",
     "text": [
      "[Parallel(n_jobs=1)]: Using backend SequentialBackend with 1 concurrent workers.\n"
     ]
    },
    {
     "name": "stdout",
     "output_type": "stream",
     "text": [
      "[CV] END .................................................... total time=   4.8s\n"
     ]
    },
    {
     "name": "stderr",
     "output_type": "stream",
     "text": [
      "[Parallel(n_jobs=1)]: Done   1 out of   1 | elapsed:    6.0s remaining:    0.0s\n"
     ]
    },
    {
     "name": "stdout",
     "output_type": "stream",
     "text": [
      "[CV] END .................................................... total time=   9.1s\n",
      "[CV] END .................................................... total time=  14.3s\n",
      "[CV] END .................................................... total time=  11.0s\n",
      "[CV] END .................................................... total time=  14.6s\n",
      "[CV] END .................................................... total time=   2.1s\n",
      "[CV] END .................................................... total time=   3.6s\n",
      "[CV] END .................................................... total time=   6.9s\n",
      "[CV] END .................................................... total time=   9.2s\n",
      "[CV] END .................................................... total time=  14.6s\n",
      "[CV] END .................................................... total time=   1.3s\n",
      "[CV] END .................................................... total time=   2.9s\n",
      "[CV] END .................................................... total time=   6.7s\n",
      "[CV] END .................................................... total time=   9.1s\n",
      "[CV] END .................................................... total time=  11.6s\n",
      "[CV] END .................................................... total time=   1.4s\n",
      "[CV] END .................................................... total time=   4.0s\n",
      "[CV] END .................................................... total time=   6.9s\n",
      "[CV] END .................................................... total time=  10.6s\n",
      "[CV] END .................................................... total time=  15.9s\n",
      "[CV] END .................................................... total time=   2.0s\n",
      "[CV] END .................................................... total time=   3.4s\n",
      "[CV] END .................................................... total time=   6.0s\n",
      "[CV] END .................................................... total time=  10.7s\n",
      "[CV] END .................................................... total time=  18.7s\n"
     ]
    },
    {
     "name": "stderr",
     "output_type": "stream",
     "text": [
      "[Parallel(n_jobs=1)]: Done  25 out of  25 | elapsed:  3.5min finished\n"
     ]
    },
    {
     "data": {
      "image/png": "[encoded data removed]",
      "text/plain": [
       "<Figure size 432x288 with 1 Axes>"
      ]
     },
     "metadata": {
      "needs_background": "light"
     },
     "output_type": "display_data"
    }
   ],
   "source": [
    "import matplotlib.pyplot as plt\n",
    "import numpy as np\n",
    "\n",
    "def plot_learning_curve(clf, X, y):\n",
    "    train_size, train_scores, test_scores = learning_curve(clf, X, y, verbose=2)\n",
    "    \n",
    "    train_mean = np.mean(train_scores, axis=1)\n",
    "    train_std = np.std(train_scores, axis=1)\n",
    "    test_mean = np.mean(test_scores, axis=1)\n",
    "    test_std = np.std(test_scores, axis=1)\n",
    "\n",
    "    plt.plot(train_size, train_mean, color='b', label='training')\n",
    "    plt.plot(train_size, test_mean, color='orange', label='validation')\n",
    "\n",
    "    plt.fill_between(train_size, train_mean-train_std, train_mean+train_std, color='b', alpha=0.3)\n",
    "    plt.fill_between(train_size, test_mean-test_std, test_mean+test_std, color='orange', alpha=0.3)\n",
    "    \n",
    "    plt.grid()\n",
    "    plt.ylim([0, 1.1])\n",
    "    plt.xlabel('Training examples')\n",
    "    plt.ylabel('Score')\n",
    "    plt.legend()\n",
    "    plt.show()\n",
    "\n",
    "plot_learning_curve(clf, X, y)"
   ]
  },
  {
   "cell_type": "markdown",
   "metadata": {},
   "source": [
    "### Evaluation of classifier "
   ]
  },
  {
   "cell_type": "code",
   "execution_count": 138,
   "metadata": {},
   "outputs": [
    {
     "data": {
      "text/plain": [
       "0.25396825396825395"
      ]
     },
     "execution_count": 138,
     "metadata": {},
     "output_type": "execute_result"
    }
   ],
   "source": [
    "from sklearn.metrics import f1_score, confusion_matrix\n",
    "best_clf = search.best_estimator_\n",
    "y_pred = best_clf.predict(X_test)\n",
    "f1_score(y_test, y_pred)\n"
   ]
  },
  {
   "cell_type": "code",
   "execution_count": 139,
   "metadata": {},
   "outputs": [
    {
     "data": {
      "text/html": [
       "<div>\n",
       "<style scoped>\n",
       "    .dataframe tbody tr th:only-of-type {\n",
       "        vertical-align: middle;\n",
       "    }\n",
       "\n",
       "    .dataframe tbody tr th {\n",
       "        vertical-align: top;\n",
       "    }\n",
       "\n",
       "    .dataframe thead th {\n",
       "        text-align: right;\n",
       "    }\n",
       "</style>\n",
       "<table border=\"1\" class=\"dataframe\">\n",
       "  <thead>\n",
       "    <tr style=\"text-align: right;\">\n",
       "      <th></th>\n",
       "      <th>normal</th>\n",
       "      <th>abnormal</th>\n",
       "    </tr>\n",
       "  </thead>\n",
       "  <tbody>\n",
       "    <tr>\n",
       "      <th>normal</th>\n",
       "      <td>218</td>\n",
       "      <td>9</td>\n",
       "    </tr>\n",
       "    <tr>\n",
       "      <th>abnormal</th>\n",
       "      <td>38</td>\n",
       "      <td>8</td>\n",
       "    </tr>\n",
       "  </tbody>\n",
       "</table>\n",
       "</div>"
      ],
      "text/plain": [
       "          normal  abnormal\n",
       "normal       218         9\n",
       "abnormal      38         8"
      ]
     },
     "execution_count": 139,
     "metadata": {},
     "output_type": "execute_result"
    }
   ],
   "source": [
    "pd.DataFrame(confusion_matrix(y_test, y_pred), columns=['normal', 'abnormal'], index= ['normal', 'abnormal'])"
   ]
  }
 ],
 "metadata": {
  "colab": {
   "collapsed_sections": [],
   "name": "assignment.ipynb",
   "provenance": []
  },
  "kernelspec": {
   "display_name": "Python 3",
   "language": "python",
   "name": "python3"
  },
  "language_info": {
   "codemirror_mode": {
    "name": "ipython",
    "version": 3
   },
   "file_extension": ".py",
   "mimetype": "text/x-python",
   "name": "python",
   "nbconvert_exporter": "python",
   "pygments_lexer": "ipython3",
   "version": "3.9.5"
  }
 },
 "nbformat": 4,
 "nbformat_minor": 1
}
